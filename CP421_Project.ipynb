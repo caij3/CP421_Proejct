{
 "cells": [
  {
   "cell_type": "code",
   "execution_count": 27,
   "id": "4d377613-1d6d-4272-9683-eaf3d66e113e",
   "metadata": {},
   "outputs": [
    {
     "name": "stdout",
     "output_type": "stream",
     "text": [
      "   User-ID        ISBN  Book-Rating\n",
      "0   276725  034545104X            0\n",
      "1   276726  0155061224            5\n",
      "2   276727  0446520802            0\n",
      "3   276729  052165615X            3\n",
      "4   276729  0521795028            6\n"
     ]
    }
   ],
   "source": [
    "import pandas as pd\n",
    "# ================== Preprocessing ====================\n",
    "# Set the name of the file\n",
    "rating_filename = 'Ratings.csv'\n",
    "# user_filename = 'Users.csv'\n",
    "#book_filename = 'Books.csv'\n",
    "\n",
    "ratings_df = pd.read_csv(rating_filename)\n",
    "\n",
    "print(ratings_df.head())"
   ]
  },
  {
   "cell_type": "code",
   "execution_count": 28,
   "id": "439274fb-ab65-4629-9c7e-94a4210a6e78",
   "metadata": {},
   "outputs": [
    {
     "name": "stdout",
     "output_type": "stream",
     "text": [
      "Number of unique users:  105283\n",
      "Number of unique books:  105283\n",
      "Shape of dataframe:  (1149780, 3)\n"
     ]
    }
   ],
   "source": [
    "print(\"Number of unique users: \", len(ratings_df[\"User-ID\"].unique()))\n",
    "print(\"Number of unique books: \", len(ratings_df[\"User-ID\"].unique()))\n",
    "print(\"Shape of dataframe: \",ratings_df.shape)"
   ]
  },
  {
   "cell_type": "code",
   "execution_count": 29,
   "id": "df49be08-5497-4d35-82ce-64b7c27cb33e",
   "metadata": {},
   "outputs": [
    {
     "data": {
      "text/plain": [
       "(433671, 3)"
      ]
     },
     "execution_count": 29,
     "metadata": {},
     "output_type": "execute_result"
    }
   ],
   "source": [
    "# Drop book ratings with 0 because it is already implied and not every book has a rating so it is unnecessary\n",
    "ratings_df = ratings_df[ratings_df[\"Book-Rating\"] != 0]\n",
    "ratings_df.shape"
   ]
  },
  {
   "cell_type": "code",
   "execution_count": 30,
   "id": "3e4887f9-c034-49f4-8b1a-06f1f3a7da30",
   "metadata": {},
   "outputs": [],
   "source": [
    "# print(ratings_df.mean())\n",
    "# print(ratings_df.max())"
   ]
  },
  {
   "cell_type": "code",
   "execution_count": 31,
   "id": "d5bfcee7-5c8a-4f37-8950-8f683f2be7cf",
   "metadata": {
    "scrolled": true
   },
   "outputs": [],
   "source": [
    "# Take the aggregate ratings (worst case scenario if we are recommending for new users)\n",
    "avg_ratings = ratings_df.groupby('ISBN').agg(avg_rating = ('Book-Rating', 'mean'),\n",
    "                                                number_of_ratings = ('Book-Rating', 'count')).reset_index()\n",
    "\n",
    "# Keep the books with over 100 ratings\n",
    "avg_ratings100 = avg_ratings[avg_ratings['number_of_ratings']>100]\n",
    "\n",
    "# Sort average ratings in descending order\n",
    "sorted_avg_ratings = avg_ratings100.sort_values(by='avg_rating', ascending=False)"
   ]
  },
  {
   "cell_type": "code",
   "execution_count": 32,
   "id": "2898ac4f-64d5-4ba6-9067-abc17ed7ac7a",
   "metadata": {
    "scrolled": true
   },
   "outputs": [
    {
     "data": {
      "text/html": [
       "<div>\n",
       "<style scoped>\n",
       "    .dataframe tbody tr th:only-of-type {\n",
       "        vertical-align: middle;\n",
       "    }\n",
       "\n",
       "    .dataframe tbody tr th {\n",
       "        vertical-align: top;\n",
       "    }\n",
       "\n",
       "    .dataframe thead th {\n",
       "        text-align: right;\n",
       "    }\n",
       "</style>\n",
       "<table border=\"1\" class=\"dataframe\">\n",
       "  <thead>\n",
       "    <tr style=\"text-align: right;\">\n",
       "      <th></th>\n",
       "      <th>ISBN</th>\n",
       "      <th>avg_rating</th>\n",
       "      <th>number_of_ratings</th>\n",
       "    </tr>\n",
       "  </thead>\n",
       "  <tbody>\n",
       "    <tr>\n",
       "      <th>52761</th>\n",
       "      <td>0439139597</td>\n",
       "      <td>9.262774</td>\n",
       "      <td>137</td>\n",
       "    </tr>\n",
       "    <tr>\n",
       "      <th>52741</th>\n",
       "      <td>0439136369</td>\n",
       "      <td>9.082707</td>\n",
       "      <td>133</td>\n",
       "    </tr>\n",
       "    <tr>\n",
       "      <th>52740</th>\n",
       "      <td>0439136350</td>\n",
       "      <td>9.035461</td>\n",
       "      <td>141</td>\n",
       "    </tr>\n",
       "    <tr>\n",
       "      <th>53142</th>\n",
       "      <td>043935806X</td>\n",
       "      <td>9.033981</td>\n",
       "      <td>206</td>\n",
       "    </tr>\n",
       "    <tr>\n",
       "      <th>77940</th>\n",
       "      <td>0590353403</td>\n",
       "      <td>8.983193</td>\n",
       "      <td>119</td>\n",
       "    </tr>\n",
       "  </tbody>\n",
       "</table>\n",
       "</div>"
      ],
      "text/plain": [
       "             ISBN  avg_rating  number_of_ratings\n",
       "52761  0439139597    9.262774                137\n",
       "52741  0439136369    9.082707                133\n",
       "52740  0439136350    9.035461                141\n",
       "53142  043935806X    9.033981                206\n",
       "77940  0590353403    8.983193                119"
      ]
     },
     "execution_count": 32,
     "metadata": {},
     "output_type": "execute_result"
    }
   ],
   "source": [
    "# Check popular books\n",
    "sorted_avg_ratings.head()"
   ]
  },
  {
   "cell_type": "code",
   "execution_count": 33,
   "id": "7f9a8313-fc9d-42d0-87a8-071aecd7bf70",
   "metadata": {},
   "outputs": [],
   "source": [
    "from scipy.sparse import coo_matrix\n",
    "from sklearn.metrics.pairwise import cosine_similarity\n",
    "\n",
    "# Assuming unique_books and unique_users are precomputed\n",
    "user_ids = ratings_df['User-ID'].unique()\n",
    "book_ids = ratings_df['ISBN'].unique()\n",
    "\n",
    "user_id_to_index = {user_id: index for index, user_id in enumerate(user_ids)}\n",
    "book_id_to_index = {book_id: index for index, book_id in enumerate(book_ids)}\n",
    "\n",
    "# Create a COO sparse matrix\n",
    "data = []\n",
    "row_indices = []\n",
    "col_indices = []\n",
    "\n",
    "for index, row in ratings_df.iterrows():\n",
    "    user_index = user_id_to_index.get(row['User-ID'])\n",
    "    book_index = book_id_to_index.get(row['ISBN'])\n",
    "\n",
    "    if user_index is not None and book_index is not None:\n",
    "        data.append(row['Book-Rating'])\n",
    "        row_indices.append(user_index)\n",
    "        col_indices.append(book_index)\n",
    "\n",
    "user_book_coo = coo_matrix((data, (row_indices, col_indices)), shape=(len(user_ids), len(book_ids)))\n",
    "\n",
    "# Compute cosine similarity\n",
    "cosine_sim_matrix = cosine_similarity(user_book_coo, dense_output=False)"
   ]
  },
  {
   "cell_type": "code",
   "execution_count": 34,
   "id": "9384ddb0-9e56-4a0a-b576-e1961f4d3879",
   "metadata": {},
   "outputs": [],
   "source": [
    "# Map user-id to cosine similarity matrix index\n",
    "unique_users = ratings_df[\"User-ID\"].unique()\n",
    "user_index = {k: v for v, k in enumerate(unique_users)}"
   ]
  },
  {
   "cell_type": "code",
   "execution_count": 35,
   "id": "c61eb7fa-cfc5-4dbc-a1e2-7237fe192254",
   "metadata": {},
   "outputs": [
    {
     "data": {
      "text/plain": [
       "185973"
      ]
     },
     "execution_count": 35,
     "metadata": {},
     "output_type": "execute_result"
    }
   ],
   "source": [
    "unique_books = set(ratings_df[\"ISBN\"].unique())\n",
    "len(unique_books)"
   ]
  },
  {
   "cell_type": "code",
   "execution_count": 36,
   "id": "d268dcd3-409a-40ed-a161-93f6e199c927",
   "metadata": {},
   "outputs": [
    {
     "name": "stdout",
     "output_type": "stream",
     "text": [
      "              ISBN  avg_rating  number_of_ratings\n",
      "57050   0446310786    8.943925                214\n",
      "52612   0439064864    8.920635                126\n",
      "52613   0439064872    8.783069                189\n",
      "59594   0449005615    8.483333                120\n",
      "82347   0671001795    8.258929                112\n",
      "104319  0767902521    8.207547                106\n",
      "109650  0804106304    8.195876                194\n",
      "25764   0316096199    8.195489                133\n",
      "26378   0316666343    8.185290                707\n",
      "17136   0156027321    8.030973                226\n"
     ]
    }
   ],
   "source": [
    "# Store all the average ratings with an average rating above a threshold as popular\n",
    "popular_sorted_average_ratings = sorted_avg_ratings[sorted_avg_ratings['avg_rating']>8]\n",
    "random_top_ten = popular_sorted_average_ratings.sample(n = 10)\n",
    "sorted_top_ten = random_top_ten.sort_values(by = \"avg_rating\", ascending = False)\n",
    "print(sorted_top_ten)"
   ]
  },
  {
   "cell_type": "code",
   "execution_count": 37,
   "id": "d9e3774b-0d9b-4471-a7b4-bad12939571e",
   "metadata": {},
   "outputs": [],
   "source": [
    "# # Uses the same algorithm as recommendation system but predicts for specific books, used for insights\n",
    "# def predict_book_ratings(user, books):\n",
    "#     # Dictionary to store ratings\n",
    "#     predicted_ratings = dict()\n",
    "#     for book in books:\n",
    "        "
   ]
  },
  {
   "cell_type": "code",
   "execution_count": 38,
   "id": "1be749f8-2a13-47b3-aa42-9697beee7a11",
   "metadata": {},
   "outputs": [],
   "source": [
    "# Returns top 10 book recommendations\n",
    "def recommend(user):\n",
    "    # Convert user-id to matrix index\n",
    "    index = user_index.get(user)\n",
    "\n",
    "    # Find the unrated books by specific user\n",
    "    rated_books = ratings_df[ratings_df['User-ID'] == user][\"ISBN\"]\n",
    "    unrated_books = unique_books - set(rated_books)\n",
    "\n",
    "    # Average Nearest-Neighbors calculation\n",
    "    # Dictionary to store ratings\n",
    "    predicted_ratings = dict()\n",
    "    for i in range(cosine_sim_matrix.shape[0]):\n",
    "        # If cosine similarity is above a certain threshold, add it to weighted average\n",
    "        if (cosine_sim_matrix[(index, i)] > 0.3):\n",
    "            # Gets the User-ID from the index\n",
    "            user2 = unique_users[i]\n",
    "            user2_df = ratings_df[ratings_df['User-ID'] == user2]\n",
    "            for book in unrated_books:\n",
    "                if book in user2_df[\"ISBN\"].values:\n",
    "                    tmp = predicted_ratings.get(book,[0,0])\n",
    "                    tmp[0] += user2_df[user2_df[\"ISBN\"] == book][\"Book-Rating\"].values[0]\n",
    "                    tmp[1] += 1\n",
    "                    predicted_ratings[book] = tmp\n",
    "\n",
    "    # Calculate the average ratings of neighbors by dividing total by total count\n",
    "    for key in predicted_ratings:\n",
    "        predicted_ratings[key] = predicted_ratings.get(key)[0] // predicted_ratings.get(key)[1]\n",
    "\n",
    "    # Get the top 10 recommended books\n",
    "    top_10 = sorted(predicted_ratings.items(), key=lambda x:-x[1])[:10]\n",
    "\n",
    "    # Store the result in a \n",
    "    result = []\n",
    "    for x in top_10:\n",
    "        result.append(x[0])\n",
    "    return result\n"
   ]
  },
  {
   "cell_type": "code",
   "execution_count": 39,
   "id": "098f897d-8288-405e-b895-60cf4a8ee33e",
   "metadata": {},
   "outputs": [
    {
     "name": "stdout",
     "output_type": "stream",
     "text": [
      "Recommended books for user with user-id 276704: \n",
      "                ISBN  avg_rating  number_of_ratings\n",
      "48998     039914370X    7.857143                  7\n",
      "54590     0440226430    7.556075                214\n",
      "97559     0743211375    7.288136                 59\n",
      "97870  0743235150030    5.000000                  1\n"
     ]
    }
   ],
   "source": [
    "#### MAIN PROGRAM - CHANGE THE USER-ID HERE\n",
    "# Select a user to recommend books - change this variable\n",
    "USER = 276704\n",
    "\n",
    "top_10_ISBN = recommend(USER)  # Assuming you have a function called 'recommend' that returns the top 10 ISBNs\n",
    "top_10 = avg_ratings[avg_ratings[\"ISBN\"].isin(top_10_ISBN)]\n",
    "print(\"Recommended books for user with user-id \" + str(USER) + \": \")\n",
    "print(top_10)"
   ]
  },
  {
   "cell_type": "code",
   "execution_count": null,
   "id": "00ceada9-104f-4913-90ce-d165d4819d14",
   "metadata": {},
   "outputs": [],
   "source": []
  }
 ],
 "metadata": {
  "kernelspec": {
   "display_name": "Python 3 (ipykernel)",
   "language": "python",
   "name": "python3"
  },
  "language_info": {
   "codemirror_mode": {
    "name": "ipython",
    "version": 3
   },
   "file_extension": ".py",
   "mimetype": "text/x-python",
   "name": "python",
   "nbconvert_exporter": "python",
   "pygments_lexer": "ipython3",
   "version": "3.12.0"
  }
 },
 "nbformat": 4,
 "nbformat_minor": 5
}
