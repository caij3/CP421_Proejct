{
 "cells": [
  {
   "cell_type": "code",
   "execution_count": 1,
   "id": "4d377613-1d6d-4272-9683-eaf3d66e113e",
   "metadata": {},
   "outputs": [
    {
     "name": "stdout",
     "output_type": "stream",
     "text": [
      "   User-ID        ISBN  Book-Rating\n",
      "0   276725  034545104X            0\n",
      "1   276726  0155061224            5\n",
      "2   276727  0446520802            0\n",
      "3   276729  052165615X            3\n",
      "4   276729  0521795028            6\n"
     ]
    }
   ],
   "source": [
    "import pandas as pd\n",
    "# ================== Preprocessing ====================\n",
    "# Set the name of the file\n",
    "rating_filename = 'Ratings.csv'\n",
    "# user_filename = 'Users.csv'\n",
    "#book_filename = 'Books.csv'\n",
    "\n",
    "ratings_df = pd.read_csv(rating_filename)\n",
    "\n",
    "print(ratings_df.head())"
   ]
  },
  {
   "cell_type": "code",
   "execution_count": 2,
   "id": "439274fb-ab65-4629-9c7e-94a4210a6e78",
   "metadata": {},
   "outputs": [
    {
     "name": "stdout",
     "output_type": "stream",
     "text": [
      "Number of unique users:  105283\n",
      "Number of unique books:  105283\n",
      "Shape of dataframe:  (1149780, 3)\n"
     ]
    }
   ],
   "source": [
    "print(\"Number of unique users: \", len(ratings_df[\"User-ID\"].unique()))\n",
    "print(\"Number of unique books: \", len(ratings_df[\"User-ID\"].unique()))\n",
    "print(\"Shape of dataframe: \",ratings_df.shape)"
   ]
  },
  {
   "cell_type": "code",
   "execution_count": 3,
   "id": "df49be08-5497-4d35-82ce-64b7c27cb33e",
   "metadata": {},
   "outputs": [
    {
     "data": {
      "text/plain": [
       "(433671, 3)"
      ]
     },
     "execution_count": 3,
     "metadata": {},
     "output_type": "execute_result"
    }
   ],
   "source": [
    "# Drop book ratings with 0 because it is already implied and not every book has a rating so it is unnecessary\n",
    "ratings_df = ratings_df[ratings_df[\"Book-Rating\"] != 0]\n",
    "ratings_df.shape"
   ]
  },
  {
   "cell_type": "code",
   "execution_count": 4,
   "id": "00ceada9-104f-4913-90ce-d165d4819d14",
   "metadata": {},
   "outputs": [
    {
     "data": {
      "text/plain": [
       "User-ID\n",
       "11676     8524\n",
       "98391     5802\n",
       "153662    1969\n",
       "189835    1906\n",
       "23902     1395\n",
       "          ... \n",
       "114079       1\n",
       "114081       1\n",
       "114096       1\n",
       "114115       1\n",
       "276723       1\n",
       "Name: count, Length: 77805, dtype: int64"
      ]
     },
     "execution_count": 4,
     "metadata": {},
     "output_type": "execute_result"
    }
   ],
   "source": [
    "### Using RMSE to see insights\n",
    "# Find the rater with the highest number of ratings\n",
    "ratings_df['User-ID'].value_counts()"
   ]
  },
  {
   "cell_type": "code",
   "execution_count": 5,
   "id": "62a401f9-04b5-4c8b-bb9e-393af056e000",
   "metadata": {},
   "outputs": [
    {
     "name": "stdout",
     "output_type": "stream",
     "text": [
      "Number of ratings from test rater before dropping:  8524\n"
     ]
    }
   ],
   "source": [
    "# For testing purposes, we will drop half of the highest raters ratings\n",
    "# We cannot simply cut the data in half since the data is ordered so if we do that then all the users in testing set will be new\n",
    "# which will be difficult to measure using our recommendation system\n",
    "\n",
    "# Highest number of ratings person is User-ID 11676\n",
    "# We will drop half of his ratings for testing\n",
    "\n",
    "test_user = 11676\n",
    "\n",
    "test_df = ratings_df[ratings_df['User-ID'] == test_user]\n",
    "\n",
    "# Create testing set\n",
    "test_set = test_df[len(test_df)//2:]\n",
    "print(\"Number of ratings from test rater before dropping: \",len(ratings_df[ratings_df['User-ID'] == test_user]))\n",
    "\n",
    "# This is our training set\n",
    "ratings_df = pd.merge(ratings_df,test_set, indicator=True, how='outer').query('_merge==\"left_only\"').drop('_merge', axis=1)"
   ]
  },
  {
   "cell_type": "code",
   "execution_count": 6,
   "id": "f649e35c-ad73-44eb-ab76-9c0dfbdb6cd0",
   "metadata": {},
   "outputs": [
    {
     "name": "stdout",
     "output_type": "stream",
     "text": [
      "Number of ratings from test rater after dropping:  4262\n"
     ]
    }
   ],
   "source": [
    "print(\"Number of ratings from test rater after dropping: \",len(ratings_df[ratings_df['User-ID'] == test_user]))"
   ]
  },
  {
   "cell_type": "code",
   "execution_count": 7,
   "id": "d5bfcee7-5c8a-4f37-8950-8f683f2be7cf",
   "metadata": {
    "scrolled": true
   },
   "outputs": [],
   "source": [
    "# Take the aggregate ratings (worst case scenario if we are recommending for new users)\n",
    "avg_ratings = ratings_df.groupby('ISBN').agg(avg_rating = ('Book-Rating', 'mean'),\n",
    "                                                number_of_ratings = ('Book-Rating', 'count')).reset_index()\n",
    "\n",
    "# Keep the books with over 100 ratings\n",
    "avg_ratings100 = avg_ratings[avg_ratings['number_of_ratings']>100]\n",
    "\n",
    "# Sort average ratings in descending order\n",
    "sorted_avg_ratings = avg_ratings100.sort_values(by='avg_rating', ascending=False)"
   ]
  },
  {
   "cell_type": "code",
   "execution_count": 8,
   "id": "2898ac4f-64d5-4ba6-9067-abc17ed7ac7a",
   "metadata": {
    "scrolled": true
   },
   "outputs": [
    {
     "data": {
      "text/html": [
       "<div>\n",
       "<style scoped>\n",
       "    .dataframe tbody tr th:only-of-type {\n",
       "        vertical-align: middle;\n",
       "    }\n",
       "\n",
       "    .dataframe tbody tr th {\n",
       "        vertical-align: top;\n",
       "    }\n",
       "\n",
       "    .dataframe thead th {\n",
       "        text-align: right;\n",
       "    }\n",
       "</style>\n",
       "<table border=\"1\" class=\"dataframe\">\n",
       "  <thead>\n",
       "    <tr style=\"text-align: right;\">\n",
       "      <th></th>\n",
       "      <th>ISBN</th>\n",
       "      <th>avg_rating</th>\n",
       "      <th>number_of_ratings</th>\n",
       "    </tr>\n",
       "  </thead>\n",
       "  <tbody>\n",
       "    <tr>\n",
       "      <th>52761</th>\n",
       "      <td>0439139597</td>\n",
       "      <td>9.262774</td>\n",
       "      <td>137</td>\n",
       "    </tr>\n",
       "    <tr>\n",
       "      <th>52741</th>\n",
       "      <td>0439136369</td>\n",
       "      <td>9.082707</td>\n",
       "      <td>133</td>\n",
       "    </tr>\n",
       "    <tr>\n",
       "      <th>52740</th>\n",
       "      <td>0439136350</td>\n",
       "      <td>9.035461</td>\n",
       "      <td>141</td>\n",
       "    </tr>\n",
       "    <tr>\n",
       "      <th>53142</th>\n",
       "      <td>043935806X</td>\n",
       "      <td>9.033981</td>\n",
       "      <td>206</td>\n",
       "    </tr>\n",
       "    <tr>\n",
       "      <th>77940</th>\n",
       "      <td>0590353403</td>\n",
       "      <td>8.983193</td>\n",
       "      <td>119</td>\n",
       "    </tr>\n",
       "  </tbody>\n",
       "</table>\n",
       "</div>"
      ],
      "text/plain": [
       "             ISBN  avg_rating  number_of_ratings\n",
       "52761  0439139597    9.262774                137\n",
       "52741  0439136369    9.082707                133\n",
       "52740  0439136350    9.035461                141\n",
       "53142  043935806X    9.033981                206\n",
       "77940  0590353403    8.983193                119"
      ]
     },
     "execution_count": 8,
     "metadata": {},
     "output_type": "execute_result"
    }
   ],
   "source": [
    "# Check popular books sorted by average rating\n",
    "sorted_avg_ratings.head()"
   ]
  },
  {
   "cell_type": "code",
   "execution_count": 9,
   "id": "d268dcd3-409a-40ed-a161-93f6e199c927",
   "metadata": {},
   "outputs": [],
   "source": [
    "# Store all the average ratings with an average rating above a threshold as popular\n",
    "popular_sorted_average_ratings = sorted_avg_ratings[sorted_avg_ratings['avg_rating']>8]"
   ]
  },
  {
   "cell_type": "code",
   "execution_count": 10,
   "id": "7f9a8313-fc9d-42d0-87a8-071aecd7bf70",
   "metadata": {},
   "outputs": [],
   "source": [
    "# Generates the cosine similarity matrix\n",
    "from scipy.sparse import coo_matrix\n",
    "from sklearn.metrics.pairwise import cosine_similarity\n",
    "\n",
    "# Assuming unique_books and unique_users are precomputed\n",
    "user_ids = ratings_df['User-ID'].unique()\n",
    "book_ids = ratings_df['ISBN'].unique()\n",
    "\n",
    "user_id_to_index = {user_id: index for index, user_id in enumerate(user_ids)}\n",
    "book_id_to_index = {book_id: index for index, book_id in enumerate(book_ids)}\n",
    "\n",
    "# Create a COO sparse matrix\n",
    "data = []\n",
    "row_indices = []\n",
    "col_indices = []\n",
    "\n",
    "for index, row in ratings_df.iterrows():\n",
    "    user_index = user_id_to_index.get(row['User-ID'])\n",
    "    book_index = book_id_to_index.get(row['ISBN'])\n",
    "\n",
    "    if user_index is not None and book_index is not None:\n",
    "        data.append(row['Book-Rating'])\n",
    "        row_indices.append(user_index)\n",
    "        col_indices.append(book_index)\n",
    "\n",
    "user_book_coo = coo_matrix((data, (row_indices, col_indices)), shape=(len(user_ids), len(book_ids)))\n",
    "\n",
    "# Compute cosine similarity\n",
    "cosine_sim_matrix = cosine_similarity(user_book_coo, dense_output=False)"
   ]
  },
  {
   "cell_type": "code",
   "execution_count": 11,
   "id": "9384ddb0-9e56-4a0a-b576-e1961f4d3879",
   "metadata": {},
   "outputs": [],
   "source": [
    "# Map user-id to cosine similarity matrix index\n",
    "unique_users = ratings_df[\"User-ID\"].unique()\n",
    "user_map = {k: v for v, k in enumerate(unique_users)}\n",
    "\n",
    "# Generate unique books\n",
    "unique_books = set(ratings_df[\"ISBN\"].unique())"
   ]
  },
  {
   "cell_type": "code",
   "execution_count": 12,
   "id": "d9e3774b-0d9b-4471-a7b4-bad12939571e",
   "metadata": {},
   "outputs": [],
   "source": [
    "# Given a list of books and a user, generate a dictionary of predicted ratings for unrated books\n",
    "def generate_predicted_ratings(index, books):\n",
    "    # Threshold\n",
    "    threshold = 0.05\n",
    "    \n",
    "    # Average Nearest-Neighbors calculation\n",
    "    # Dictionary to store ratings\n",
    "    predicted_ratings = dict()\n",
    "    for i in range(cosine_sim_matrix.shape[0]):\n",
    "        # If cosine similarity is above a certain threshold, add it to weighted average\n",
    "        if (cosine_sim_matrix[(index, i)] > threshold):\n",
    "            # Gets the User-ID from the index\n",
    "            user2 = unique_users[i]\n",
    "            user2_df = ratings_df[ratings_df['User-ID'] == user2]\n",
    "            for book in books:\n",
    "                if book in user2_df[\"ISBN\"].values:\n",
    "                    tmp = predicted_ratings.get(book,[0,0])\n",
    "                    tmp[0] += user2_df[user2_df[\"ISBN\"] == book][\"Book-Rating\"].values[0]\n",
    "                    tmp[1] += 1\n",
    "                    predicted_ratings[book] = tmp\n",
    "    # Calculate the average ratings of neighbors by dividing total by total count\n",
    "    for key in predicted_ratings:\n",
    "        predicted_ratings[key] = predicted_ratings.get(key)[0] // predicted_ratings.get(key)[1]\n",
    "\n",
    "    return predicted_ratings"
   ]
  },
  {
   "cell_type": "code",
   "execution_count": 13,
   "id": "1be749f8-2a13-47b3-aa42-9697beee7a11",
   "metadata": {},
   "outputs": [],
   "source": [
    "# Returns top 10 book recommendations\n",
    "def recommend(user):\n",
    "    # Convert user-id to matrix index\n",
    "    index = user_map.get(user)\n",
    "\n",
    "    # Find the unrated books by specific user\n",
    "    rated_books = ratings_df[ratings_df['User-ID'] == user][\"ISBN\"]\n",
    "\n",
    "    # If user does not have enough ratings, do not use this algorithm (use most popular)\n",
    "    if len(rated_books) < 5:\n",
    "        return []\n",
    "    \n",
    "    unrated_books = unique_books - set(rated_books)\n",
    "\n",
    "    # Calculate predicted ratings using average nearest neighbors\n",
    "    predicted_ratings = generate_predicted_ratings(index,unrated_books)\n",
    "\n",
    "    # Get the top 10 recommended books\n",
    "    top_10 = sorted(predicted_ratings.items(), key=lambda x:-x[1])[:10]\n",
    "\n",
    "    # Store the result in a \n",
    "    result = []\n",
    "    for x in top_10:\n",
    "        result.append(x[0])\n",
    "    return result\n"
   ]
  },
  {
   "cell_type": "code",
   "execution_count": 14,
   "id": "5060cbe4-d1ef-42ea-aeec-7ff2691f015d",
   "metadata": {},
   "outputs": [],
   "source": [
    "# Formts top 10 recommended for user\n",
    "def format_top10(top_10_ISBN):\n",
    "    top_10 = avg_ratings[avg_ratings[\"ISBN\"].isin(top_10_ISBN)]\n",
    "    print(\"Recommended books for user with user-id \" + str(USER) + \": \")\n",
    "    print(top_10)"
   ]
  },
  {
   "cell_type": "code",
   "execution_count": 15,
   "id": "8158a8e7-74cb-4440-aa29-bd630718bae5",
   "metadata": {},
   "outputs": [],
   "source": [
    "# When users are new, display popular items until user has made enough ratings\n",
    "def display_popular():\n",
    "    # Store all the average ratings with an average rating above a threshold as popular\n",
    "    random_top_ten = popular_sorted_average_ratings.sample(n = 10)\n",
    "    sorted_top_ten = random_top_ten.sort_values(by = \"avg_rating\", ascending = False)\n",
    "    print(sorted_top_ten)"
   ]
  },
  {
   "cell_type": "code",
   "execution_count": 16,
   "id": "b83eede8-d34b-400d-b6db-98f4ebca474f",
   "metadata": {},
   "outputs": [
    {
     "name": "stdout",
     "output_type": "stream",
     "text": [
      "Root Mean Square Error:  2.496462143178469\n"
     ]
    }
   ],
   "source": [
    "# Calculate RMSE using previously made testing set\n",
    "import math\n",
    "import numpy as np\n",
    "\n",
    "test_books = set(test_set[\"ISBN\"])\n",
    "test_index = user_map.get(test_user)\n",
    "test_ratings = dict(zip(test_set[\"ISBN\"], test_set[\"Book-Rating\"]))\n",
    "train_ratings = generate_predicted_ratings(test_index,test_books)\n",
    "\n",
    "# Find common keys\n",
    "common_keys = set(test_ratings.keys()) & set(train_ratings.keys())\n",
    "\n",
    "# Create arrays for values of common keys in each dictionary\n",
    "test_arr = [test_ratings[key] for key in common_keys] # Actual\n",
    "train_arr = [train_ratings[key] for key in common_keys] # Predicted\n",
    "\n",
    "# Calculate RMSE\n",
    "MSE = np.square(np.subtract(test_arr,train_arr)).mean()\n",
    "RMSE = math.sqrt(MSE)\n",
    "print(\"Root Mean Square Error: \",RMSE)"
   ]
  },
  {
   "cell_type": "code",
   "execution_count": 17,
   "id": "098f897d-8288-405e-b895-60cf4a8ee33e",
   "metadata": {},
   "outputs": [
    {
     "name": "stdout",
     "output_type": "stream",
     "text": [
      "Recommended books for user with user-id 276704: \n",
      "                ISBN  avg_rating  number_of_ratings\n",
      "53676     0440159016    9.333333                  3\n",
      "58695     0446611778    7.333333                 39\n",
      "60713     0449242773    8.250000                  8\n",
      "66956     0515087491    8.500000                  6\n",
      "67072     0515101486    9.600000                  5\n",
      "67101     0515104175    8.400000                  5\n",
      "81318     0670030031    7.923077                 13\n",
      "144060    1593080549    9.000000                  2\n",
      "144063    1593081017   10.000000                  1\n",
      "167558  780451524201   10.000000                  1\n"
     ]
    }
   ],
   "source": [
    "#### MAIN PROGRAM - CHANGE THE USER-ID HERE\n",
    "# Select a user to recommend books - change this variable\n",
    "# User with more than 5 books rated\n",
    "USER = 276704\n",
    "# User with less than 5 books rated\n",
    "# USER = 276723\n",
    "\n",
    "# Note that this algorithm may take a while to run\n",
    "top_10_ISBN = recommend(USER)\n",
    "\n",
    "# Displays the top 10 recommended books for the user \n",
    "if len(top_10_ISBN) == 0:\n",
    "    display_popular()\n",
    "else:\n",
    "    format_top10(top_10_ISBN)"
   ]
  },
  {
   "cell_type": "code",
   "execution_count": null,
   "id": "64d061e0-e3b7-4db8-8097-d26571d0edca",
   "metadata": {},
   "outputs": [],
   "source": []
  }
 ],
 "metadata": {
  "kernelspec": {
   "display_name": "Python 3 (ipykernel)",
   "language": "python",
   "name": "python3"
  },
  "language_info": {
   "codemirror_mode": {
    "name": "ipython",
    "version": 3
   },
   "file_extension": ".py",
   "mimetype": "text/x-python",
   "name": "python",
   "nbconvert_exporter": "python",
   "pygments_lexer": "ipython3",
   "version": "3.10.10"
  }
 },
 "nbformat": 4,
 "nbformat_minor": 5
}
