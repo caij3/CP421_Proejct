{
 "cells": [
  {
   "cell_type": "code",
   "execution_count": 1,
   "id": "4d377613-1d6d-4272-9683-eaf3d66e113e",
   "metadata": {},
   "outputs": [
    {
     "name": "stdout",
     "output_type": "stream",
     "text": [
      "   User-ID        ISBN  Book-Rating\n",
      "0   276725  034545104X            0\n",
      "1   276726   155061224            5\n",
      "2   276727   446520802            0\n",
      "3   276729  052165615X            3\n",
      "4   276729   521795028            6\n"
     ]
    }
   ],
   "source": [
    "import pandas as pd\n",
    "# ================== Preprocessing ====================\n",
    "# Set the name of the file\n",
    "rating_filename = 'Ratingst.csv'\n",
    "# user_filename = 'Users.csv'\n",
    "# book_filename = 'Books.csv'\n",
    "\n",
    "ratings_df = pd.read_csv(rating_filename)\n",
    "\n",
    "print(ratings_df.head())\n",
    "\n",
    "# Rating - User-ID, ISBN, Book-Rating\n",
    "# Connect via ISBN"
   ]
  },
  {
   "cell_type": "code",
   "execution_count": 2,
   "id": "439274fb-ab65-4629-9c7e-94a4210a6e78",
   "metadata": {},
   "outputs": [
    {
     "name": "stdout",
     "output_type": "stream",
     "text": [
      "12\n",
      "26\n",
      "(26, 3)\n"
     ]
    }
   ],
   "source": [
    "print(len(ratings_df[\"User-ID\"].unique()))\n",
    "print(len(ratings_df[\"ISBN\"].unique()))\n",
    "print(ratings_df.shape)"
   ]
  },
  {
   "cell_type": "code",
   "execution_count": 3,
   "id": "d5bfcee7-5c8a-4f37-8950-8f683f2be7cf",
   "metadata": {
    "scrolled": true
   },
   "outputs": [],
   "source": [
    "# Take the aggregate ratings (worst case scenario if user is new and age is unknown)\n",
    "avg_ratings = ratings_df.groupby('ISBN').agg(avg_rating = ('Book-Rating', 'mean'),\n",
    "                                                number_of_ratings = ('Book-Rating', 'count')).reset_index()\n",
    "\n",
    "# Keep the books with over 100 ratings\n",
    "avg_ratings100 = avg_ratings[avg_ratings['number_of_ratings']>100]"
   ]
  },
  {
   "cell_type": "code",
   "execution_count": 4,
   "id": "2898ac4f-64d5-4ba6-9067-abc17ed7ac7a",
   "metadata": {
    "scrolled": true
   },
   "outputs": [
    {
     "data": {
      "text/html": [
       "<div>\n",
       "<style scoped>\n",
       "    .dataframe tbody tr th:only-of-type {\n",
       "        vertical-align: middle;\n",
       "    }\n",
       "\n",
       "    .dataframe tbody tr th {\n",
       "        vertical-align: top;\n",
       "    }\n",
       "\n",
       "    .dataframe thead th {\n",
       "        text-align: right;\n",
       "    }\n",
       "</style>\n",
       "<table border=\"1\" class=\"dataframe\">\n",
       "  <thead>\n",
       "    <tr style=\"text-align: right;\">\n",
       "      <th></th>\n",
       "      <th>ISBN</th>\n",
       "      <th>avg_rating</th>\n",
       "      <th>number_of_ratings</th>\n",
       "    </tr>\n",
       "  </thead>\n",
       "  <tbody>\n",
       "  </tbody>\n",
       "</table>\n",
       "</div>"
      ],
      "text/plain": [
       "Empty DataFrame\n",
       "Columns: [ISBN, avg_rating, number_of_ratings]\n",
       "Index: []"
      ]
     },
     "execution_count": 4,
     "metadata": {},
     "output_type": "execute_result"
    }
   ],
   "source": [
    "# Check popular books\n",
    "avg_ratings100.sort_values(by='avg_rating', ascending=False).head()"
   ]
  },
  {
   "cell_type": "code",
   "execution_count": 5,
   "id": "df49be08-5497-4d35-82ce-64b7c27cb33e",
   "metadata": {},
   "outputs": [
    {
     "data": {
      "text/plain": [
       "(13, 3)"
      ]
     },
     "execution_count": 5,
     "metadata": {},
     "output_type": "execute_result"
    }
   ],
   "source": [
    "# Drop book ratings with 0 because it is already implied and not every book has a rating so it is unnecessary\n",
    "ratings_df = ratings_df[ratings_df[\"Book-Rating\"] != 0]\n",
    "ratings_df.shape"
   ]
  },
  {
   "cell_type": "code",
   "execution_count": 6,
   "id": "2d6c6fc3-aac5-4ac8-bc88-fe5c7168bd24",
   "metadata": {},
   "outputs": [],
   "source": [
    "import numpy as np\n",
    "#ratings = np.array(ratings_df[\"Book-Rating\"])\n",
    "unique_users = np.array(ratings_df[\"User-ID\"].sort_values().unique())\n",
    "# unique_books = np.array(ratings_df[\"ISBN\"].sort_values().unique())"
   ]
  },
  {
   "cell_type": "code",
   "execution_count": 7,
   "id": "274f6599-3f4a-4697-a865-e9c6c8ab1946",
   "metadata": {},
   "outputs": [
    {
     "data": {
      "text/html": [
       "<div>\n",
       "<style scoped>\n",
       "    .dataframe tbody tr th:only-of-type {\n",
       "        vertical-align: middle;\n",
       "    }\n",
       "\n",
       "    .dataframe tbody tr th {\n",
       "        vertical-align: top;\n",
       "    }\n",
       "\n",
       "    .dataframe thead th {\n",
       "        text-align: right;\n",
       "    }\n",
       "</style>\n",
       "<table border=\"1\" class=\"dataframe\">\n",
       "  <thead>\n",
       "    <tr style=\"text-align: right;\">\n",
       "      <th></th>\n",
       "      <th>User-ID</th>\n",
       "      <th>number_of_ratings</th>\n",
       "    </tr>\n",
       "  </thead>\n",
       "  <tbody>\n",
       "    <tr>\n",
       "      <th>0</th>\n",
       "      <td>276726</td>\n",
       "      <td>1</td>\n",
       "    </tr>\n",
       "    <tr>\n",
       "      <th>1</th>\n",
       "      <td>276729</td>\n",
       "      <td>2</td>\n",
       "    </tr>\n",
       "    <tr>\n",
       "      <th>2</th>\n",
       "      <td>276736</td>\n",
       "      <td>1</td>\n",
       "    </tr>\n",
       "    <tr>\n",
       "      <th>3</th>\n",
       "      <td>276737</td>\n",
       "      <td>1</td>\n",
       "    </tr>\n",
       "    <tr>\n",
       "      <th>4</th>\n",
       "      <td>276744</td>\n",
       "      <td>1</td>\n",
       "    </tr>\n",
       "  </tbody>\n",
       "</table>\n",
       "</div>"
      ],
      "text/plain": [
       "   User-ID  number_of_ratings\n",
       "0   276726                  1\n",
       "1   276729                  2\n",
       "2   276736                  1\n",
       "3   276737                  1\n",
       "4   276744                  1"
      ]
     },
     "execution_count": 7,
     "metadata": {},
     "output_type": "execute_result"
    }
   ],
   "source": [
    "# Number of ratings not equal for all, should remove 0's\n",
    "user_counts = ratings_df.groupby('User-ID').agg(number_of_ratings = ('ISBN', 'count')).reset_index()\n",
    "user_counts.head()"
   ]
  },
  {
   "cell_type": "code",
   "execution_count": 8,
   "id": "c969a3a6-65d7-463f-ac8c-642fdce1a246",
   "metadata": {},
   "outputs": [
    {
     "name": "stdout",
     "output_type": "stream",
     "text": [
      "User-ID              276739.000\n",
      "number_of_ratings         1.625\n",
      "dtype: float64\n",
      "User-ID              276748\n",
      "number_of_ratings         5\n",
      "dtype: int64\n"
     ]
    }
   ],
   "source": [
    "print(user_counts.mean())\n",
    "print(user_counts.max())"
   ]
  },
  {
   "cell_type": "code",
   "execution_count": 9,
   "id": "88421208-1fa4-4ce9-88ec-e6d8284f485a",
   "metadata": {},
   "outputs": [],
   "source": [
    "user_book = dict()\n",
    "\n",
    "#book_index = {k: v for v, k in enumerate(unique_books)}\n",
    "user_index = {k: v for v, k in enumerate(unique_users)}"
   ]
  },
  {
   "cell_type": "code",
   "execution_count": 10,
   "id": "1d279e35-b729-4a67-998f-6920496923a6",
   "metadata": {},
   "outputs": [],
   "source": [
    "arr_users = [{} for _ in range(len(unique_users))]\n",
    "i = 0\n",
    "for user_id, group in ratings_df.groupby(\"User-ID\"):\n",
    "    for index, row in group.iterrows():\n",
    "        arr_users[i][row['ISBN']] = row['Book-Rating']\n",
    "    i += 1"
   ]
  },
  {
   "cell_type": "code",
   "execution_count": 11,
   "id": "64b28c88-877e-4911-a745-8908781b589a",
   "metadata": {},
   "outputs": [
    {
     "data": {
      "text/plain": [
       "[{'155061224': 5},\n",
       " {'052165615X': 3, '521795028': 6},\n",
       " {'3257224281': 8},\n",
       " {'600570967': 6},\n",
       " {'038550120X': 7},\n",
       " {'342310538': 10},\n",
       " {'60517794': 9,\n",
       "  '671537458': 9,\n",
       "  '679776818': 8,\n",
       "  '943066433': 7,\n",
       "  '1885408226': 7},\n",
       " {'747558167': 6}]"
      ]
     },
     "execution_count": 11,
     "metadata": {},
     "output_type": "execute_result"
    }
   ],
   "source": [
    "arr_users"
   ]
  },
  {
   "cell_type": "code",
   "execution_count": 12,
   "id": "5f13704d-1f0b-4e34-894d-9c95333208d9",
   "metadata": {},
   "outputs": [],
   "source": [
    "neighbors = dict()"
   ]
  },
  {
   "cell_type": "code",
   "execution_count": 13,
   "id": "bd86f9b8-3557-49f4-b5e9-0fcc7b21bb16",
   "metadata": {},
   "outputs": [
    {
     "data": {
      "text/plain": [
       "['155061224', '521795028', '052165615X']"
      ]
     },
     "execution_count": 13,
     "metadata": {},
     "output_type": "execute_result"
    }
   ],
   "source": [
    "vals = list(set(arr_users[1].keys()).symmetric_difference(set(arr_users[0].keys())))\n",
    "vals"
   ]
  },
  {
   "cell_type": "code",
   "execution_count": 16,
   "id": "d1e99907-b824-4b96-ac48-128aa0280a6a",
   "metadata": {},
   "outputs": [
    {
     "name": "stdout",
     "output_type": "stream",
     "text": [
      "052165615X\n",
      "521795028\n"
     ]
    }
   ],
   "source": [
    "for keys in arr_users[1].keys():\n",
    "    print(keys)"
   ]
  },
  {
   "cell_type": "code",
   "execution_count": 27,
   "id": "e296e992-dfcc-4d5f-9616-c31a4921008f",
   "metadata": {},
   "outputs": [],
   "source": [
    "# for i in range(len(arr_users)):\n",
    "#     for j in range(len(arr_users[i+1:])):\n",
    "#         vals = list(set(arr_users[i].keys()).symmetric_difference(set(arr_users[j].keys())))\n",
    "#         arr1 = [0] * len(vals)\n",
    "#         arr2 = [0] * len(vals)\n",
    "#         for k in range(len(vals)):\n",
    "#             arr1[k] = arr_users[i].get(vals.)"
   ]
  },
  {
   "cell_type": "code",
   "execution_count": 12,
   "id": "45c009ee-44d3-4ee5-82e2-4b20b7dc77a7",
   "metadata": {},
   "outputs": [
    {
     "ename": "MemoryError",
     "evalue": "",
     "output_type": "error",
     "traceback": [
      "\u001b[1;31m---------------------------------------------------------------------------\u001b[0m",
      "\u001b[1;31mMemoryError\u001b[0m                               Traceback (most recent call last)",
      "Cell \u001b[1;32mIn[12], line 3\u001b[0m\n\u001b[0;32m      1\u001b[0m \u001b[38;5;66;03m# Iterate through the grouped DataFrame\u001b[39;00m\n\u001b[0;32m      2\u001b[0m \u001b[38;5;28;01mfor\u001b[39;00m user_id, group \u001b[38;5;129;01min\u001b[39;00m ratings_df\u001b[38;5;241m.\u001b[39mgroupby(\u001b[38;5;124m\"\u001b[39m\u001b[38;5;124mUser-ID\u001b[39m\u001b[38;5;124m\"\u001b[39m):\n\u001b[1;32m----> 3\u001b[0m     user_ratings \u001b[38;5;241m=\u001b[39m \u001b[43m[\u001b[49m\u001b[38;5;241;43m0\u001b[39;49m\u001b[43m]\u001b[49m\u001b[43m \u001b[49m\u001b[38;5;241;43m*\u001b[39;49m\u001b[43m \u001b[49m\u001b[38;5;28;43mlen\u001b[39;49m\u001b[43m(\u001b[49m\u001b[43munique_books\u001b[49m\u001b[43m)\u001b[49m\n\u001b[0;32m      4\u001b[0m     \u001b[38;5;28;01mfor\u001b[39;00m index, row \u001b[38;5;129;01min\u001b[39;00m group\u001b[38;5;241m.\u001b[39miterrows():\n\u001b[0;32m      5\u001b[0m         \u001b[38;5;66;03m# Access individual rows using 'row'\u001b[39;00m\n\u001b[0;32m      6\u001b[0m         user_ratings[book_index\u001b[38;5;241m.\u001b[39mget(row[\u001b[38;5;124m'\u001b[39m\u001b[38;5;124mISBN\u001b[39m\u001b[38;5;124m'\u001b[39m])] \u001b[38;5;241m=\u001b[39m row[\u001b[38;5;124m'\u001b[39m\u001b[38;5;124mBook-Rating\u001b[39m\u001b[38;5;124m'\u001b[39m]\n",
      "\u001b[1;31mMemoryError\u001b[0m: "
     ]
    }
   ],
   "source": [
    "# Iterate through the grouped DataFrame\n",
    "for user_id, group in ratings_df.groupby(\"User-ID\"):\n",
    "    user_ratings = [0] * len(unique_books)\n",
    "    for index, row in group.iterrows():\n",
    "        # Access individual rows using 'row'\n",
    "        user_ratings[book_index.get(row['ISBN'])] = row['Book-Rating']\n",
    "        #print(f\"User-ID: {user_id}, ISBN: {row['ISBN']}, Rating: {row['Book-Rating']}\")\n",
    "    user_book[user_id] = user_ratings"
   ]
  },
  {
   "cell_type": "code",
   "execution_count": 14,
   "id": "de770f76-b860-475b-b482-01bef995836f",
   "metadata": {},
   "outputs": [
    {
     "data": {
      "text/plain": [
       "[0, 3, 0, 0, 0, 0, 6, 0, 0, 0, 0, 0, 0]"
      ]
     },
     "execution_count": 14,
     "metadata": {},
     "output_type": "execute_result"
    }
   ],
   "source": [
    "user_book.get(276729)"
   ]
  },
  {
   "cell_type": "code",
   "execution_count": 69,
   "id": "c94026f9-204f-4236-9c8d-f0a7ae86d6b1",
   "metadata": {},
   "outputs": [],
   "source": [
    "from scipy.sparse import csr_matrix\n",
    "from pandas.api.types import CategoricalDtype\n",
    "\n",
    "rcLabel, vLabel = ('User-ID', 'ISBN'), 'Book-Rating'\n",
    "rcCat = [CategoricalDtype(sorted(df[col].unique()), ordered=True) for col in rcLabel]\n",
    "rc = [df[column].astype(aType).cat.codes for column, aType in zip(rcLabel, rcCat)]\n",
    "mat = csr_matrix((df[vLabel], rc), shape=tuple(cat.categories.size for cat in rcCat))\n",
    "dfOut = ( pd.DataFrame.sparse.from_spmatrix(\n",
    "    mat, index=rcCat[0].categories, columns=rcCat[1].categories) )"
   ]
  },
  {
   "cell_type": "code",
   "execution_count": null,
   "id": "7f30e083-7b3b-40af-8482-594a35b6ad36",
   "metadata": {},
   "outputs": [],
   "source": []
  }
 ],
 "metadata": {
  "kernelspec": {
   "display_name": "Python 3 (ipykernel)",
   "language": "python",
   "name": "python3"
  },
  "language_info": {
   "codemirror_mode": {
    "name": "ipython",
    "version": 3
   },
   "file_extension": ".py",
   "mimetype": "text/x-python",
   "name": "python",
   "nbconvert_exporter": "python",
   "pygments_lexer": "ipython3",
   "version": "3.10.10"
  }
 },
 "nbformat": 4,
 "nbformat_minor": 5
}
