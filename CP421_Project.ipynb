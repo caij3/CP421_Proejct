{
 "cells": [
  {
   "cell_type": "code",
   "execution_count": 8,
   "id": "4d377613-1d6d-4272-9683-eaf3d66e113e",
   "metadata": {},
   "outputs": [
    {
     "name": "stdout",
     "output_type": "stream",
     "text": [
      "   User-ID        ISBN  Book-Rating\n",
      "0   276725  034545104X            0\n",
      "1   276726  0155061224            5\n",
      "2   276727  0446520802            0\n",
      "3   276729  052165615X            3\n",
      "4   276729  0521795028            6\n"
     ]
    }
   ],
   "source": [
    "import pandas as pd\n",
    "# ================== Preprocessing ====================\n",
    "# Set the name of the file\n",
    "rating_filename = 'Ratings.csv'\n",
    "# user_filename = 'Users.csv'\n",
    "book_filename = 'Books.csv'\n",
    "\n",
    "ratings_df = pd.read_csv(rating_filename)\n",
    "\n",
    "print(ratings_df.head())\n",
    "\n",
    "# Rating - User-ID, ISBN, Book-Rating\n",
    "# Connect via ISBN"
   ]
  },
  {
   "cell_type": "code",
   "execution_count": 9,
   "id": "439274fb-ab65-4629-9c7e-94a4210a6e78",
   "metadata": {},
   "outputs": [
    {
     "name": "stdout",
     "output_type": "stream",
     "text": [
      "105283\n",
      "340556\n",
      "(1149780, 3)\n"
     ]
    }
   ],
   "source": [
    "print(len(ratings_df[\"User-ID\"].unique()))\n",
    "print(len(ratings_df[\"ISBN\"].unique()))\n",
    "print(ratings_df.shape)"
   ]
  },
  {
   "cell_type": "code",
   "execution_count": 10,
   "id": "d5bfcee7-5c8a-4f37-8950-8f683f2be7cf",
   "metadata": {
    "scrolled": true
   },
   "outputs": [],
   "source": [
    "# Take the aggregate ratings (worst case scenario if user is new and age is unknown)\n",
    "avg_ratings = ratings_df.groupby('ISBN').agg(avg_rating = ('Book-Rating', 'mean'),\n",
    "                                                number_of_ratings = ('Book-Rating', 'count')).reset_index()\n",
    "\n",
    "# Keep the books with over 100 ratings\n",
    "avg_ratings100 = avg_ratings[avg_ratings['number_of_ratings']>100]"
   ]
  },
  {
   "cell_type": "code",
   "execution_count": 11,
   "id": "2898ac4f-64d5-4ba6-9067-abc17ed7ac7a",
   "metadata": {
    "scrolled": true
   },
   "outputs": [
    {
     "data": {
      "text/html": [
       "<div>\n",
       "<style scoped>\n",
       "    .dataframe tbody tr th:only-of-type {\n",
       "        vertical-align: middle;\n",
       "    }\n",
       "\n",
       "    .dataframe tbody tr th {\n",
       "        vertical-align: top;\n",
       "    }\n",
       "\n",
       "    .dataframe thead th {\n",
       "        text-align: right;\n",
       "    }\n",
       "</style>\n",
       "<table border=\"1\" class=\"dataframe\">\n",
       "  <thead>\n",
       "    <tr style=\"text-align: right;\">\n",
       "      <th></th>\n",
       "      <th>ISBN</th>\n",
       "      <th>avg_rating</th>\n",
       "      <th>number_of_ratings</th>\n",
       "    </tr>\n",
       "  </thead>\n",
       "  <tbody>\n",
       "    <tr>\n",
       "      <th>97171</th>\n",
       "      <td>0439064864</td>\n",
       "      <td>6.611765</td>\n",
       "      <td>170</td>\n",
       "    </tr>\n",
       "    <tr>\n",
       "      <th>97511</th>\n",
       "      <td>0439139597</td>\n",
       "      <td>6.541237</td>\n",
       "      <td>194</td>\n",
       "    </tr>\n",
       "    <tr>\n",
       "      <th>97470</th>\n",
       "      <td>0439136350</td>\n",
       "      <td>6.467005</td>\n",
       "      <td>197</td>\n",
       "    </tr>\n",
       "    <tr>\n",
       "      <th>144129</th>\n",
       "      <td>0590353403</td>\n",
       "      <td>6.363095</td>\n",
       "      <td>168</td>\n",
       "    </tr>\n",
       "    <tr>\n",
       "      <th>98386</th>\n",
       "      <td>043935806X</td>\n",
       "      <td>5.571856</td>\n",
       "      <td>334</td>\n",
       "    </tr>\n",
       "  </tbody>\n",
       "</table>\n",
       "</div>"
      ],
      "text/plain": [
       "              ISBN  avg_rating  number_of_ratings\n",
       "97171   0439064864    6.611765                170\n",
       "97511   0439139597    6.541237                194\n",
       "97470   0439136350    6.467005                197\n",
       "144129  0590353403    6.363095                168\n",
       "98386   043935806X    5.571856                334"
      ]
     },
     "execution_count": 11,
     "metadata": {},
     "output_type": "execute_result"
    }
   ],
   "source": [
    "# Check popular books\n",
    "avg_ratings100.sort_values(by='avg_rating', ascending=False).head()"
   ]
  },
  {
   "cell_type": "code",
   "execution_count": 12,
   "id": "df49be08-5497-4d35-82ce-64b7c27cb33e",
   "metadata": {},
   "outputs": [
    {
     "data": {
      "text/plain": [
       "(433671, 3)"
      ]
     },
     "execution_count": 12,
     "metadata": {},
     "output_type": "execute_result"
    }
   ],
   "source": [
    "# Drop book ratings with 0 because it is already implied and not every book has a rating so it is unnecessary\n",
    "ratings_df = ratings_df[ratings_df[\"Book-Rating\"] != 0]\n",
    "ratings_df.shape"
   ]
  },
  {
   "cell_type": "code",
   "execution_count": 25,
   "id": "bcd5494d-0d44-414b-b099-7076bb638531",
   "metadata": {},
   "outputs": [],
   "source": [
    "test_set, train_set = ratings_df[:len(ratings_df)//2], ratings_df[len(ratings_df)//2:]"
   ]
  },
  {
   "cell_type": "code",
   "execution_count": 27,
   "id": "d992d5d8-0a3f-4c9a-8588-5294189a26c8",
   "metadata": {},
   "outputs": [
    {
     "data": {
      "text/plain": [
       "216836"
      ]
     },
     "execution_count": 27,
     "metadata": {},
     "output_type": "execute_result"
    }
   ],
   "source": [
    "len(train_set)"
   ]
  },
  {
   "cell_type": "code",
   "execution_count": 28,
   "id": "54a73e34-f946-4075-95c5-b16ee244d89d",
   "metadata": {},
   "outputs": [
    {
     "data": {
      "text/plain": [
       "216835"
      ]
     },
     "execution_count": 28,
     "metadata": {},
     "output_type": "execute_result"
    }
   ],
   "source": [
    "len(test_set)"
   ]
  },
  {
   "cell_type": "code",
   "execution_count": 29,
   "id": "7f9a8313-fc9d-42d0-87a8-071aecd7bf70",
   "metadata": {},
   "outputs": [],
   "source": [
    "from scipy.sparse import coo_matrix\n",
    "from sklearn.metrics.pairwise import cosine_similarity\n",
    "\n",
    "# Assuming unique_books and unique_users are precomputed\n",
    "user_ids = train_set['User-ID'].unique()\n",
    "book_ids = train_set['ISBN'].unique()\n",
    "\n",
    "user_id_to_index = {user_id: index for index, user_id in enumerate(user_ids)}\n",
    "book_id_to_index = {book_id: index for index, book_id in enumerate(book_ids)}\n",
    "\n",
    "# Create a COO sparse matrix\n",
    "data = []\n",
    "row_indices = []\n",
    "col_indices = []\n",
    "\n",
    "for index, row in ratings_df.iterrows():\n",
    "    user_index = user_id_to_index.get(row['User-ID'])\n",
    "    book_index = book_id_to_index.get(row['ISBN'])\n",
    "\n",
    "    if user_index is not None and book_index is not None:\n",
    "        data.append(row['Book-Rating'])\n",
    "        row_indices.append(user_index)\n",
    "        col_indices.append(book_index)\n",
    "\n",
    "user_book_coo = coo_matrix((data, (row_indices, col_indices)), shape=(len(user_ids), len(book_ids)))\n",
    "\n",
    "# Compute cosine similarity\n",
    "cosine_sim_matrix = cosine_similarity(user_book_coo, dense_output=False)"
   ]
  },
  {
   "cell_type": "code",
   "execution_count": 30,
   "id": "259c07a4-1651-4632-8d15-19cd4b08fa23",
   "metadata": {},
   "outputs": [
    {
     "name": "stdout",
     "output_type": "stream",
     "text": [
      "  (0, 0)\t1.0\n",
      "  (1, 37124)\t0.7071067811865476\n",
      "  (1, 1)\t1.0000000000000002\n",
      "  (2, 30529)\t0.3394112549695428\n",
      "  (2, 14691)\t0.062469504755442426\n",
      "  (2, 1140)\t0.565685424949238\n",
      "  (2, 40094)\t0.7071067811865475\n",
      "  (2, 39890)\t0.37300192329612547\n",
      "  (2, 39816)\t0.12226071776788357\n",
      "  (2, 39503)\t0.4634275570907938\n",
      "  (2, 39295)\t0.2201927530252721\n",
      "  (2, 39248)\t0.11135748693238869\n",
      "  (2, 38968)\t0.07681860194089953\n",
      "  (2, 38752)\t0.026175499305028983\n",
      "  (2, 38725)\t0.11298172894234777\n",
      "  (2, 37961)\t0.22555354977384034\n",
      "  (2, 37812)\t0.7071067811865475\n",
      "  (2, 37776)\t0.5\n",
      "  (2, 37633)\t0.7071067811865475\n",
      "  (2, 36990)\t0.06694094263632394\n",
      "  (2, 36960)\t0.4845015831115092\n",
      "  (2, 36858)\t0.06914898447778771\n",
      "  (2, 36301)\t0.7071067811865475\n",
      "  (2, 35808)\t0.7071067811865475\n",
      "  (2, 35712)\t0.07905694150420947\n",
      "  :\t:\n",
      "  (40348, 14869)\t0.016982209467797507\n",
      "  (40348, 14696)\t0.033590241436966206\n",
      "  (40348, 14481)\t0.3367876570272817\n",
      "  (40348, 13140)\t0.054348874453119894\n",
      "  (40348, 12762)\t0.05410287117201963\n",
      "  (40348, 10772)\t0.039598315929494685\n",
      "  (40348, 8791)\t0.042603306151362166\n",
      "  (40348, 6902)\t0.4762896722078402\n",
      "  (40348, 6820)\t0.1363613364785538\n",
      "  (40348, 1560)\t0.039117745191698396\n",
      "  (40348, 729)\t0.08943541854746749\n",
      "  (40349, 40349)\t1.0\n",
      "  (40349, 32846)\t0.13022202248430043\n",
      "  (40349, 30666)\t0.06202571747248687\n",
      "  (40349, 26325)\t0.08287893668111398\n",
      "  (40349, 13992)\t0.049536524856480336\n",
      "  (40349, 13512)\t0.13902204704056847\n",
      "  (40349, 10881)\t0.4536383816989942\n",
      "  (40349, 8051)\t0.4030341774879027\n",
      "  (40349, 7087)\t1.0\n",
      "  (40349, 6421)\t0.1405109839972998\n",
      "  (40349, 6199)\t0.025710849085565236\n",
      "  (40350, 40350)\t1.0\n",
      "  (40350, 18277)\t0.03339397294221149\n",
      "  (40351, 40351)\t1.0\n"
     ]
    }
   ],
   "source": [
    "print(cosine_sim_matrix)"
   ]
  },
  {
   "cell_type": "code",
   "execution_count": null,
   "id": "1afc7eca-b284-4d8f-ba0e-464edb8c3673",
   "metadata": {},
   "outputs": [],
   "source": [
    "user = 2"
   ]
  },
  {
   "cell_type": "code",
   "execution_count": 15,
   "id": "2d6c6fc3-aac5-4ac8-bc88-fe5c7168bd24",
   "metadata": {},
   "outputs": [],
   "source": [
    "import numpy as np\n",
    "#ratings = np.array(ratings_df[\"Book-Rating\"])\n",
    "unique_users = np.array(ratings_df[\"User-ID\"].sort_values().unique())\n",
    "# unique_books = np.array(ratings_df[\"ISBN\"].sort_values().unique())"
   ]
  },
  {
   "cell_type": "code",
   "execution_count": 16,
   "id": "274f6599-3f4a-4697-a865-e9c6c8ab1946",
   "metadata": {},
   "outputs": [
    {
     "data": {
      "text/html": [
       "<div>\n",
       "<style scoped>\n",
       "    .dataframe tbody tr th:only-of-type {\n",
       "        vertical-align: middle;\n",
       "    }\n",
       "\n",
       "    .dataframe tbody tr th {\n",
       "        vertical-align: top;\n",
       "    }\n",
       "\n",
       "    .dataframe thead th {\n",
       "        text-align: right;\n",
       "    }\n",
       "</style>\n",
       "<table border=\"1\" class=\"dataframe\">\n",
       "  <thead>\n",
       "    <tr style=\"text-align: right;\">\n",
       "      <th></th>\n",
       "      <th>User-ID</th>\n",
       "      <th>number_of_ratings</th>\n",
       "    </tr>\n",
       "  </thead>\n",
       "  <tbody>\n",
       "    <tr>\n",
       "      <th>0</th>\n",
       "      <td>8</td>\n",
       "      <td>7</td>\n",
       "    </tr>\n",
       "    <tr>\n",
       "      <th>1</th>\n",
       "      <td>9</td>\n",
       "      <td>1</td>\n",
       "    </tr>\n",
       "    <tr>\n",
       "      <th>2</th>\n",
       "      <td>10</td>\n",
       "      <td>1</td>\n",
       "    </tr>\n",
       "    <tr>\n",
       "      <th>3</th>\n",
       "      <td>12</td>\n",
       "      <td>1</td>\n",
       "    </tr>\n",
       "    <tr>\n",
       "      <th>4</th>\n",
       "      <td>14</td>\n",
       "      <td>3</td>\n",
       "    </tr>\n",
       "  </tbody>\n",
       "</table>\n",
       "</div>"
      ],
      "text/plain": [
       "   User-ID  number_of_ratings\n",
       "0        8                  7\n",
       "1        9                  1\n",
       "2       10                  1\n",
       "3       12                  1\n",
       "4       14                  3"
      ]
     },
     "execution_count": 16,
     "metadata": {},
     "output_type": "execute_result"
    }
   ],
   "source": [
    "# Number of ratings not equal for all, should remove 0's\n",
    "user_counts = ratings_df.groupby('User-ID').agg(number_of_ratings = ('ISBN', 'count')).reset_index()\n",
    "user_counts.head()"
   ]
  },
  {
   "cell_type": "code",
   "execution_count": 17,
   "id": "c969a3a6-65d7-463f-ac8c-642fdce1a246",
   "metadata": {},
   "outputs": [
    {
     "name": "stdout",
     "output_type": "stream",
     "text": [
      "User-ID              139243.292822\n",
      "number_of_ratings         5.573819\n",
      "dtype: float64\n",
      "User-ID              278854\n",
      "number_of_ratings      8524\n",
      "dtype: int64\n"
     ]
    }
   ],
   "source": [
    "print(user_counts.mean())\n",
    "print(user_counts.max())"
   ]
  },
  {
   "cell_type": "code",
   "execution_count": 18,
   "id": "88421208-1fa4-4ce9-88ec-e6d8284f485a",
   "metadata": {},
   "outputs": [],
   "source": [
    "user_book = dict()\n",
    "\n",
    "#book_index = {k: v for v, k in enumerate(unique_books)}\n",
    "user_index = {k: v for v, k in enumerate(unique_users)}"
   ]
  },
  {
   "cell_type": "code",
   "execution_count": 19,
   "id": "1d279e35-b729-4a67-998f-6920496923a6",
   "metadata": {},
   "outputs": [],
   "source": [
    "arr_users = [{} for _ in range(len(unique_users))]\n",
    "i = 0\n",
    "for user_id, group in ratings_df.groupby(\"User-ID\"):\n",
    "    for index, row in group.iterrows():\n",
    "        arr_users[i][row['ISBN']] = row['Book-Rating']\n",
    "    i += 1"
   ]
  },
  {
   "cell_type": "code",
   "execution_count": 20,
   "id": "64b28c88-877e-4911-a745-8908781b589a",
   "metadata": {},
   "outputs": [],
   "source": [
    "# arr_users"
   ]
  },
  {
   "cell_type": "code",
   "execution_count": 21,
   "id": "5f13704d-1f0b-4e34-894d-9c95333208d9",
   "metadata": {},
   "outputs": [],
   "source": [
    "# neighbors = dict()"
   ]
  },
  {
   "cell_type": "code",
   "execution_count": 22,
   "id": "bd86f9b8-3557-49f4-b5e9-0fcc7b21bb16",
   "metadata": {},
   "outputs": [],
   "source": [
    "# vals = list(set(arr_users[1].keys()).symmetric_difference(set(arr_users[0].keys())))\n",
    "# vals"
   ]
  },
  {
   "cell_type": "code",
   "execution_count": 23,
   "id": "d1e99907-b824-4b96-ac48-128aa0280a6a",
   "metadata": {},
   "outputs": [],
   "source": [
    "# for keys in arr_users[1].keys():\n",
    "#     print(keys)"
   ]
  },
  {
   "cell_type": "code",
   "execution_count": 24,
   "id": "e296e992-dfcc-4d5f-9616-c31a4921008f",
   "metadata": {},
   "outputs": [],
   "source": [
    "# from itertools import combinations\n",
    "\n",
    "\n",
    "# for i in range(len(arr_users)):\n",
    "#     for j in range(len(arr_users[i+1:])):\n",
    "#         vals = list(set(arr_users[i].keys()).symmetric_difference(set(arr_users[j].keys())))\n",
    "#         arr1 = [0] * len(vals)\n",
    "#         arr2 = [0] * len(vals)\n",
    "#         print(i,j)\n",
    "#         for k in range(len(vals)):\n",
    "#             arr1[k] = arr_users[i].get(vals[k],0)\n",
    "#             arr2[k] = arr_users[j].get(vals[k],0)\n"
   ]
  },
  {
   "cell_type": "code",
   "execution_count": null,
   "id": "7f30e083-7b3b-40af-8482-594a35b6ad36",
   "metadata": {},
   "outputs": [],
   "source": []
  }
 ],
 "metadata": {
  "kernelspec": {
   "display_name": "Python 3 (ipykernel)",
   "language": "python",
   "name": "python3"
  },
  "language_info": {
   "codemirror_mode": {
    "name": "ipython",
    "version": 3
   },
   "file_extension": ".py",
   "mimetype": "text/x-python",
   "name": "python",
   "nbconvert_exporter": "python",
   "pygments_lexer": "ipython3",
   "version": "3.10.10"
  }
 },
 "nbformat": 4,
 "nbformat_minor": 5
}
