{
 "cells": [
  {
   "cell_type": "code",
   "execution_count": 1,
   "id": "4d377613-1d6d-4272-9683-eaf3d66e113e",
   "metadata": {},
   "outputs": [
    {
     "name": "stdout",
     "output_type": "stream",
     "text": [
      "   User-ID        ISBN  Book-Rating\n",
      "0   276725  034545104X            0\n",
      "1   276726  0155061224            5\n",
      "2   276727  0446520802            0\n",
      "3   276729  052165615X            3\n",
      "4   276729  0521795028            6\n"
     ]
    }
   ],
   "source": [
    "import pandas as pd\n",
    "# ================== Preprocessing ====================\n",
    "# Set the name of the file\n",
    "rating_filename = 'Ratings.csv'\n",
    "# user_filename = 'Users.csv'\n",
    "#book_filename = 'Books.csv'\n",
    "\n",
    "ratings_df = pd.read_csv(rating_filename)\n",
    "\n",
    "print(ratings_df.head())\n",
    "\n",
    "# Rating - User-ID, ISBN, Book-Rating\n",
    "# Connect via ISBN"
   ]
  },
  {
   "cell_type": "code",
   "execution_count": 2,
   "id": "439274fb-ab65-4629-9c7e-94a4210a6e78",
   "metadata": {},
   "outputs": [
    {
     "name": "stdout",
     "output_type": "stream",
     "text": [
      "105283\n",
      "Number of unique books:  105283\n",
      "(1149780, 3)\n"
     ]
    }
   ],
   "source": [
    "print(len(ratings_df[\"User-ID\"].unique()))\n",
    "print(\"Number of unique books: \", len(ratings_df[\"User-ID\"].unique()))\n",
    "print(ratings_df.shape)"
   ]
  },
  {
   "cell_type": "code",
   "execution_count": 3,
   "id": "df49be08-5497-4d35-82ce-64b7c27cb33e",
   "metadata": {},
   "outputs": [
    {
     "data": {
      "text/plain": [
       "(433671, 3)"
      ]
     },
     "execution_count": 3,
     "metadata": {},
     "output_type": "execute_result"
    }
   ],
   "source": [
    "# Drop book ratings with 0 because it is already implied and not every book has a rating so it is unnecessary\n",
    "ratings_df = ratings_df[ratings_df[\"Book-Rating\"] != 0]\n",
    "ratings_df.shape"
   ]
  },
  {
   "cell_type": "code",
   "execution_count": null,
   "id": "3e4887f9-c034-49f4-8b1a-06f1f3a7da30",
   "metadata": {},
   "outputs": [],
   "source": [
    "print(ratings_df.mean())\n",
    "print(ratings_df.max())"
   ]
  },
  {
   "cell_type": "code",
   "execution_count": null,
   "id": "d5bfcee7-5c8a-4f37-8950-8f683f2be7cf",
   "metadata": {
    "scrolled": true
   },
   "outputs": [],
   "source": [
    "# Take the aggregate ratings (worst case scenario if user is new and age is unknown)\n",
    "avg_ratings = ratings_df.groupby('ISBN').agg(avg_rating = ('Book-Rating', 'mean'),\n",
    "                                                number_of_ratings = ('Book-Rating', 'count')).reset_index()\n",
    "\n",
    "# Keep the books with over 100 ratings\n",
    "avg_ratings100 = avg_ratings[avg_ratings['number_of_ratings']>100]"
   ]
  },
  {
   "cell_type": "code",
   "execution_count": null,
   "id": "2898ac4f-64d5-4ba6-9067-abc17ed7ac7a",
   "metadata": {
    "scrolled": true
   },
   "outputs": [],
   "source": [
    "# Check popular books\n",
    "avg_ratings100.sort_values(by='avg_rating', ascending=False).head()"
   ]
  },
  {
   "cell_type": "code",
   "execution_count": null,
   "id": "bcd5494d-0d44-414b-b099-7076bb638531",
   "metadata": {},
   "outputs": [],
   "source": [
    "# Split the data into training and testing data set\n",
    "test_set, train_set = ratings_df[:len(ratings_df)//2], ratings_df[len(ratings_df)//2:]"
   ]
  },
  {
   "cell_type": "code",
   "execution_count": null,
   "id": "7f9a8313-fc9d-42d0-87a8-071aecd7bf70",
   "metadata": {},
   "outputs": [],
   "source": [
    "from scipy.sparse import coo_matrix\n",
    "from sklearn.metrics.pairwise import cosine_similarity\n",
    "\n",
    "# Assuming unique_books and unique_users are precomputed\n",
    "user_ids = train_set['User-ID'].unique()\n",
    "book_ids = train_set['ISBN'].unique()\n",
    "\n",
    "user_id_to_index = {user_id: index for index, user_id in enumerate(user_ids)}\n",
    "book_id_to_index = {book_id: index for index, book_id in enumerate(book_ids)}\n",
    "\n",
    "# Create a COO sparse matrix\n",
    "data = []\n",
    "row_indices = []\n",
    "col_indices = []\n",
    "\n",
    "for index, row in ratings_df.iterrows():\n",
    "    user_index = user_id_to_index.get(row['User-ID'])\n",
    "    book_index = book_id_to_index.get(row['ISBN'])\n",
    "\n",
    "    if user_index is not None and book_index is not None:\n",
    "        data.append(row['Book-Rating'])\n",
    "        row_indices.append(user_index)\n",
    "        col_indices.append(book_index)\n",
    "\n",
    "user_book_coo = coo_matrix((data, (row_indices, col_indices)), shape=(len(user_ids), len(book_ids)))\n",
    "\n",
    "# Compute cosine similarity\n",
    "cosine_sim_matrix = cosine_similarity(user_book_coo, dense_output=False)"
   ]
  },
  {
   "cell_type": "code",
   "execution_count": null,
   "id": "158710cd-a5a2-4a59-968d-bb89085d31d1",
   "metadata": {},
   "outputs": [],
   "source": [
    "train_set"
   ]
  },
  {
   "cell_type": "code",
   "execution_count": null,
   "id": "9384ddb0-9e56-4a0a-b576-e1961f4d3879",
   "metadata": {},
   "outputs": [],
   "source": [
    "# Map user-id to cosine similarity matrix index\n",
    "unique_users = train_set[\"User-ID\"].unique()\n",
    "user_index = {k: v for v, k in enumerate(unique_users)}"
   ]
  },
  {
   "cell_type": "code",
   "execution_count": null,
   "id": "c61eb7fa-cfc5-4dbc-a1e2-7237fe192254",
   "metadata": {},
   "outputs": [],
   "source": [
    "unique_books = set(train_set[\"ISBN\"].unique())\n",
    "len(unique_books)"
   ]
  },
  {
   "cell_type": "code",
   "execution_count": null,
   "id": "f74d0c3c-4115-464e-906f-b261862f7811",
   "metadata": {},
   "outputs": [],
   "source": [
    "#### MAIN PROGRAM - CHANGE THE USER-ID HERE\n",
    "# Select a user to recommend books\n",
    "user = 276704"
   ]
  },
  {
   "cell_type": "code",
   "execution_count": null,
   "id": "1be749f8-2a13-47b3-aa42-9697beee7a11",
   "metadata": {},
   "outputs": [],
   "source": [
    "# Convert user-id to matrix index\n",
    "index = user_index.get(user)\n",
    "print(index)"
   ]
  },
  {
   "cell_type": "code",
   "execution_count": null,
   "id": "526c1685-5840-46bd-bf39-9c3da3f8e8a3",
   "metadata": {},
   "outputs": [],
   "source": [
    "# Find the unrated books by specific user\n",
    "rated_books = train_set[train_set['User-ID'] == user][\"ISBN\"]\n",
    "unrated_books = unique_books - set(rated_books)\n",
    "len(unrated_books)"
   ]
  },
  {
   "cell_type": "code",
   "execution_count": null,
   "id": "fd79fe4f-0a0c-4931-a077-e07c11159b7b",
   "metadata": {},
   "outputs": [],
   "source": [
    "# Average Nearest-Neighbors calculation (WIP)\n",
    "count = 0\n",
    "avg = 0\n",
    "for i in range(cosine_sim_matrix.shape[0]):\n",
    "    # If cosine similarity is above a certain threshold, add it to weighted average\n",
    "    if (cosine_sim_matrix[(index, i)] > 0.1):\n",
    "        avg += cosine_sim_matrix[(index, i)]\n",
    "        count += 1\n",
    "print(count)"
   ]
  },
  {
   "cell_type": "code",
   "execution_count": null,
   "id": "7f30e083-7b3b-40af-8482-594a35b6ad36",
   "metadata": {},
   "outputs": [],
   "source": []
  }
 ],
 "metadata": {
  "kernelspec": {
   "display_name": "Python 3 (ipykernel)",
   "language": "python",
   "name": "python3"
  },
  "language_info": {
   "codemirror_mode": {
    "name": "ipython",
    "version": 3
   },
   "file_extension": ".py",
   "mimetype": "text/x-python",
   "name": "python",
   "nbconvert_exporter": "python",
   "pygments_lexer": "ipython3",
   "version": "3.10.10"
  }
 },
 "nbformat": 4,
 "nbformat_minor": 5
}
