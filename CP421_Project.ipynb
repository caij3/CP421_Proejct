{
 "cells": [
  {
   "cell_type": "code",
   "execution_count": 1,
   "id": "4d377613-1d6d-4272-9683-eaf3d66e113e",
   "metadata": {},
   "outputs": [
    {
     "name": "stdout",
     "output_type": "stream",
     "text": [
      "   User-ID        ISBN  Book-Rating\n",
      "0   276725  034545104X            0\n",
      "1   276726  0155061224            5\n",
      "2   276727  0446520802            0\n",
      "3   276729  052165615X            3\n",
      "4   276729  0521795028            6\n"
     ]
    }
   ],
   "source": [
    "import pandas as pd\n",
    "# ================== Preprocessing ====================\n",
    "# Set the name of the file\n",
    "rating_filename = 'Ratings.csv'\n",
    "user_filename = 'Users.csv'\n",
    "book_filename = 'Books.csv'\n",
    "\n",
    "ratings_df = pd.read_csv(rating_filename)\n",
    "\n",
    "print(ratings_df.head())\n",
    "\n",
    "# Rating - User-ID, ISBN, Book-Rating\n",
    "# Connect via ISBN\n",
    "\n",
    "# Age groups\n",
    "# 0-14 Children\n",
    "# 15-24 Youth\n",
    "# 25 - 39 adult1\n",
    "# 40-64 adult2\n",
    "# 65+ senior\n",
    "\n",
    "# error: Microsoft Visual C++ 14.0 or greater is required. Get it with \"Microsoft C++ Build Tools\": https://visualstudio.microsoft.com/visual-cpp-build-tools/"
   ]
  },
  {
   "cell_type": "code",
   "execution_count": 2,
   "id": "439274fb-ab65-4629-9c7e-94a4210a6e78",
   "metadata": {},
   "outputs": [
    {
     "name": "stdout",
     "output_type": "stream",
     "text": [
      "105283\n",
      "340556\n",
      "(1149780, 3)\n"
     ]
    }
   ],
   "source": [
    "print(len(ratings_df[\"User-ID\"].unique()))\n",
    "print(len(ratings_df[\"ISBN\"].unique()))\n",
    "print(ratings_df.shape)"
   ]
  },
  {
   "cell_type": "code",
   "execution_count": 3,
   "id": "d5bfcee7-5c8a-4f37-8950-8f683f2be7cf",
   "metadata": {
    "scrolled": true
   },
   "outputs": [],
   "source": [
    "# Take the aggregate ratings (worst case scenario if user is new and age is unknown)\n",
    "avg_ratings = ratings_df.groupby('ISBN').agg(avg_rating = ('Book-Rating', 'mean'),\n",
    "                                                number_of_ratings = ('Book-Rating', 'count')).reset_index()\n",
    "\n",
    "# Keep the books with over 100 ratings\n",
    "avg_ratings100 = avg_ratings[avg_ratings['number_of_ratings']>100]"
   ]
  },
  {
   "cell_type": "code",
   "execution_count": 7,
   "id": "2898ac4f-64d5-4ba6-9067-abc17ed7ac7a",
   "metadata": {
    "scrolled": true
   },
   "outputs": [
    {
     "data": {
      "text/html": [
       "<div>\n",
       "<style scoped>\n",
       "    .dataframe tbody tr th:only-of-type {\n",
       "        vertical-align: middle;\n",
       "    }\n",
       "\n",
       "    .dataframe tbody tr th {\n",
       "        vertical-align: top;\n",
       "    }\n",
       "\n",
       "    .dataframe thead th {\n",
       "        text-align: right;\n",
       "    }\n",
       "</style>\n",
       "<table border=\"1\" class=\"dataframe\">\n",
       "  <thead>\n",
       "    <tr style=\"text-align: right;\">\n",
       "      <th></th>\n",
       "      <th>ISBN</th>\n",
       "      <th>avg_rating</th>\n",
       "      <th>number_of_ratings</th>\n",
       "    </tr>\n",
       "  </thead>\n",
       "  <tbody>\n",
       "    <tr>\n",
       "      <th>97171</th>\n",
       "      <td>0439064864</td>\n",
       "      <td>6.611765</td>\n",
       "      <td>170</td>\n",
       "    </tr>\n",
       "    <tr>\n",
       "      <th>97511</th>\n",
       "      <td>0439139597</td>\n",
       "      <td>6.541237</td>\n",
       "      <td>194</td>\n",
       "    </tr>\n",
       "    <tr>\n",
       "      <th>97470</th>\n",
       "      <td>0439136350</td>\n",
       "      <td>6.467005</td>\n",
       "      <td>197</td>\n",
       "    </tr>\n",
       "    <tr>\n",
       "      <th>144129</th>\n",
       "      <td>0590353403</td>\n",
       "      <td>6.363095</td>\n",
       "      <td>168</td>\n",
       "    </tr>\n",
       "    <tr>\n",
       "      <th>98386</th>\n",
       "      <td>043935806X</td>\n",
       "      <td>5.571856</td>\n",
       "      <td>334</td>\n",
       "    </tr>\n",
       "  </tbody>\n",
       "</table>\n",
       "</div>"
      ],
      "text/plain": [
       "              ISBN  avg_rating  number_of_ratings\n",
       "97171   0439064864    6.611765                170\n",
       "97511   0439139597    6.541237                194\n",
       "97470   0439136350    6.467005                197\n",
       "144129  0590353403    6.363095                168\n",
       "98386   043935806X    5.571856                334"
      ]
     },
     "execution_count": 7,
     "metadata": {},
     "output_type": "execute_result"
    }
   ],
   "source": [
    "# Check popular books\n",
    "avg_ratings100.sort_values(by='avg_rating', ascending=False).head()"
   ]
  },
  {
   "cell_type": "code",
   "execution_count": 41,
   "id": "22d4279e-fde4-4f0b-ab6a-ef33f94b04d4",
   "metadata": {},
   "outputs": [],
   "source": [
    "# book_ratings_pivot = pd.pivot_table(ratings_df[:1495018980], index='User-ID', columns='ISBN', values='Book-Rating', fill_value = 0)"
   ]
  },
  {
   "cell_type": "code",
   "execution_count": 73,
   "id": "274f6599-3f4a-4697-a865-e9c6c8ab1946",
   "metadata": {},
   "outputs": [
    {
     "data": {
      "text/html": [
       "<div>\n",
       "<style scoped>\n",
       "    .dataframe tbody tr th:only-of-type {\n",
       "        vertical-align: middle;\n",
       "    }\n",
       "\n",
       "    .dataframe tbody tr th {\n",
       "        vertical-align: top;\n",
       "    }\n",
       "\n",
       "    .dataframe thead th {\n",
       "        text-align: right;\n",
       "    }\n",
       "</style>\n",
       "<table border=\"1\" class=\"dataframe\">\n",
       "  <thead>\n",
       "    <tr style=\"text-align: right;\">\n",
       "      <th></th>\n",
       "      <th>User-ID</th>\n",
       "      <th>number_of_ratings</th>\n",
       "    </tr>\n",
       "  </thead>\n",
       "  <tbody>\n",
       "    <tr>\n",
       "      <th>0</th>\n",
       "      <td>2</td>\n",
       "      <td>1</td>\n",
       "    </tr>\n",
       "    <tr>\n",
       "      <th>1</th>\n",
       "      <td>7</td>\n",
       "      <td>1</td>\n",
       "    </tr>\n",
       "    <tr>\n",
       "      <th>2</th>\n",
       "      <td>8</td>\n",
       "      <td>18</td>\n",
       "    </tr>\n",
       "    <tr>\n",
       "      <th>3</th>\n",
       "      <td>9</td>\n",
       "      <td>3</td>\n",
       "    </tr>\n",
       "    <tr>\n",
       "      <th>4</th>\n",
       "      <td>10</td>\n",
       "      <td>2</td>\n",
       "    </tr>\n",
       "  </tbody>\n",
       "</table>\n",
       "</div>"
      ],
      "text/plain": [
       "   User-ID  number_of_ratings\n",
       "0        2                  1\n",
       "1        7                  1\n",
       "2        8                 18\n",
       "3        9                  3\n",
       "4       10                  2"
      ]
     },
     "execution_count": 73,
     "metadata": {},
     "output_type": "execute_result"
    }
   ],
   "source": [
    "# Number of ratings not equal for all, should remove 0's\n",
    "user_counts = ratings_df.groupby('User-ID').agg(number_of_ratings = ('ISBN', 'count')).reset_index()\n",
    "user_counts.head()"
   ]
  },
  {
   "cell_type": "code",
   "execution_count": 74,
   "id": "df49be08-5497-4d35-82ce-64b7c27cb33e",
   "metadata": {},
   "outputs": [
    {
     "data": {
      "text/plain": [
       "(433671, 3)"
      ]
     },
     "execution_count": 74,
     "metadata": {},
     "output_type": "execute_result"
    }
   ],
   "source": [
    "# Drop book ratings with 0 because it is already implied and not every book has a rating so it is unnecessary\n",
    "ratings_df = ratings_df[ratings_df[\"Book-Rating\"] != 0]\n",
    "ratings_df.shape"
   ]
  },
  {
   "cell_type": "code",
   "execution_count": 75,
   "id": "50db2b5f-b7bf-49b2-b272-9725c406d15e",
   "metadata": {},
   "outputs": [
    {
     "name": "stdout",
     "output_type": "stream",
     "text": [
      "716109\n"
     ]
    }
   ],
   "source": [
    "# Removed a total of 716109 unnecessary rows\n",
    "print(1149780-433671)"
   ]
  },
  {
   "cell_type": "code",
   "execution_count": 69,
   "id": "c94026f9-204f-4236-9c8d-f0a7ae86d6b1",
   "metadata": {},
   "outputs": [],
   "source": [
    "from scipy.sparse import csr_matrix\n",
    "from pandas.api.types import CategoricalDtype\n",
    "\n",
    "rcLabel, vLabel = ('User-ID', 'ISBN'), 'Book-Rating'\n",
    "rcCat = [CategoricalDtype(sorted(df[col].unique()), ordered=True) for col in rcLabel]\n",
    "rc = [df[column].astype(aType).cat.codes for column, aType in zip(rcLabel, rcCat)]\n",
    "mat = csr_matrix((df[vLabel], rc), shape=tuple(cat.categories.size for cat in rcCat))\n",
    "dfOut = ( pd.DataFrame.sparse.from_spmatrix(\n",
    "    mat, index=rcCat[0].categories, columns=rcCat[1].categories) )"
   ]
  },
  {
   "cell_type": "code",
   "execution_count": 9,
   "id": "2d6c6fc3-aac5-4ac8-bc88-fe5c7168bd24",
   "metadata": {},
   "outputs": [],
   "source": [
    "import numpy as np\n",
    "ratings = np.array(ratings_df[\"Book-Rating\"])\n",
    "users = np.array(ratings_df[\"User-ID\"])\n",
    "books = np.array(ratings_df[\"ISBN\"])"
   ]
  },
  {
   "cell_type": "code",
   "execution_count": 58,
   "id": "c4fd23ec-83fd-408a-9ed7-36daf18c3db8",
   "metadata": {},
   "outputs": [],
   "source": [
    "unique_books = ratings_df[\"ISBN\"].unique()\n",
    "unique_users = ratings_df[\"User-ID\"].unique()\n",
    "\n",
    "user_book_map = dict()"
   ]
  },
  {
   "cell_type": "code",
   "execution_count": 58,
   "id": "ce16bc04-25f7-4c96-afe0-6f4aa72312fe",
   "metadata": {},
   "outputs": [],
   "source": [
    "x = pd.get_dummies(df.drop"
   ]
  },
  {
   "cell_type": "code",
   "execution_count": 59,
   "id": "9dcabb03-c548-44ab-bbad-13cee19e467c",
   "metadata": {},
   "outputs": [
    {
     "data": {
      "text/plain": [
       "array([276725, 276726], dtype=int64)"
      ]
     },
     "execution_count": 59,
     "metadata": {},
     "output_type": "execute_result"
    }
   ],
   "source": [
    "for user in unique_users[:2]:\n",
    "    books = []\n",
    "    for book in unique_books:\n",
    "        if "
   ]
  },
  {
   "cell_type": "code",
   "execution_count": 62,
   "id": "01aa59e6-1210-42d4-8686-8926b3ebe7dd",
   "metadata": {
    "scrolled": true
   },
   "outputs": [],
   "source": [
    "from surprise import Dataset\n",
    "from surprise import Reader\n",
    "\n",
    "reader = Reader(rating_scale=(1,10))\n",
    "\n",
    "train_df, test_df = df[:len(df)], ratings_df[len(ratings_df)//2:]\n",
    "\n",
    "data = Dataset.load_from_df(train_df[[\"User-ID\",\"ISBN\",\"Book-Rating\"]],reader)"
   ]
  },
  {
   "cell_type": "code",
   "execution_count": 63,
   "id": "c47835b4-19f5-4196-ba90-63052e5fab92",
   "metadata": {},
   "outputs": [],
   "source": [
    "from surprise import KNNWithMeans\n",
    "\n",
    "# To use user-based cosine similarity\n",
    "sim_options = {\n",
    "    \"name\": \"cosine\",\n",
    "    \"user_based\": True,  \n",
    "}\n",
    "algo = KNNWithMeans(sim_options=sim_options)"
   ]
  },
  {
   "cell_type": "code",
   "execution_count": 64,
   "id": "1a3023f6-1f50-4deb-a72b-9dd6c0171349",
   "metadata": {},
   "outputs": [
    {
     "name": "stdout",
     "output_type": "stream",
     "text": [
      "Computing the cosine similarity matrix...\n"
     ]
    },
    {
     "ename": "MemoryError",
     "evalue": "Unable to allocate 45.1 GiB for an array with shape (77805, 77805) and data type float64",
     "output_type": "error",
     "traceback": [
      "\u001b[1;31m---------------------------------------------------------------------------\u001b[0m",
      "\u001b[1;31mMemoryError\u001b[0m                               Traceback (most recent call last)",
      "Cell \u001b[1;32mIn[64], line 2\u001b[0m\n\u001b[0;32m      1\u001b[0m train_set \u001b[38;5;241m=\u001b[39m data\u001b[38;5;241m.\u001b[39mbuild_full_trainset()\n\u001b[1;32m----> 2\u001b[0m \u001b[43malgo\u001b[49m\u001b[38;5;241;43m.\u001b[39;49m\u001b[43mfit\u001b[49m\u001b[43m(\u001b[49m\u001b[43mtrain_set\u001b[49m\u001b[43m)\u001b[49m\n",
      "File \u001b[1;32m~\\AppData\\Local\\Programs\\Python\\Python310\\lib\\site-packages\\surprise\\prediction_algorithms\\knns.py:176\u001b[0m, in \u001b[0;36mKNNWithMeans.fit\u001b[1;34m(self, trainset)\u001b[0m\n\u001b[0;32m    173\u001b[0m \u001b[38;5;28;01mdef\u001b[39;00m \u001b[38;5;21mfit\u001b[39m(\u001b[38;5;28mself\u001b[39m, trainset):\n\u001b[0;32m    175\u001b[0m     SymmetricAlgo\u001b[38;5;241m.\u001b[39mfit(\u001b[38;5;28mself\u001b[39m, trainset)\n\u001b[1;32m--> 176\u001b[0m     \u001b[38;5;28mself\u001b[39m\u001b[38;5;241m.\u001b[39msim \u001b[38;5;241m=\u001b[39m \u001b[38;5;28;43mself\u001b[39;49m\u001b[38;5;241;43m.\u001b[39;49m\u001b[43mcompute_similarities\u001b[49m\u001b[43m(\u001b[49m\u001b[43m)\u001b[49m\n\u001b[0;32m    178\u001b[0m     \u001b[38;5;28mself\u001b[39m\u001b[38;5;241m.\u001b[39mmeans \u001b[38;5;241m=\u001b[39m np\u001b[38;5;241m.\u001b[39mzeros(\u001b[38;5;28mself\u001b[39m\u001b[38;5;241m.\u001b[39mn_x)\n\u001b[0;32m    179\u001b[0m     \u001b[38;5;28;01mfor\u001b[39;00m x, ratings \u001b[38;5;129;01min\u001b[39;00m \u001b[38;5;28mself\u001b[39m\u001b[38;5;241m.\u001b[39mxr\u001b[38;5;241m.\u001b[39mitems():\n",
      "File \u001b[1;32m~\\AppData\\Local\\Programs\\Python\\Python310\\lib\\site-packages\\surprise\\prediction_algorithms\\algo_base.py:248\u001b[0m, in \u001b[0;36mAlgoBase.compute_similarities\u001b[1;34m(self)\u001b[0m\n\u001b[0;32m    246\u001b[0m \u001b[38;5;28;01mif\u001b[39;00m \u001b[38;5;28mgetattr\u001b[39m(\u001b[38;5;28mself\u001b[39m, \u001b[38;5;124m\"\u001b[39m\u001b[38;5;124mverbose\u001b[39m\u001b[38;5;124m\"\u001b[39m, \u001b[38;5;28;01mFalse\u001b[39;00m):\n\u001b[0;32m    247\u001b[0m     \u001b[38;5;28mprint\u001b[39m(\u001b[38;5;124mf\u001b[39m\u001b[38;5;124m\"\u001b[39m\u001b[38;5;124mComputing the \u001b[39m\u001b[38;5;132;01m{\u001b[39;00mname\u001b[38;5;132;01m}\u001b[39;00m\u001b[38;5;124m similarity matrix...\u001b[39m\u001b[38;5;124m\"\u001b[39m)\n\u001b[1;32m--> 248\u001b[0m sim \u001b[38;5;241m=\u001b[39m \u001b[43mconstruction_func\u001b[49m\u001b[43m[\u001b[49m\u001b[43mname\u001b[49m\u001b[43m]\u001b[49m\u001b[43m(\u001b[49m\u001b[38;5;241;43m*\u001b[39;49m\u001b[43margs\u001b[49m\u001b[43m)\u001b[49m\n\u001b[0;32m    249\u001b[0m \u001b[38;5;28;01mif\u001b[39;00m \u001b[38;5;28mgetattr\u001b[39m(\u001b[38;5;28mself\u001b[39m, \u001b[38;5;124m\"\u001b[39m\u001b[38;5;124mverbose\u001b[39m\u001b[38;5;124m\"\u001b[39m, \u001b[38;5;28;01mFalse\u001b[39;00m):\n\u001b[0;32m    250\u001b[0m     \u001b[38;5;28mprint\u001b[39m(\u001b[38;5;124m\"\u001b[39m\u001b[38;5;124mDone computing similarity matrix.\u001b[39m\u001b[38;5;124m\"\u001b[39m)\n",
      "File \u001b[1;32m~\\AppData\\Local\\Programs\\Python\\Python310\\lib\\site-packages\\surprise\\similarities.pyx:54\u001b[0m, in \u001b[0;36msurprise.similarities.cosine\u001b[1;34m()\u001b[0m\n",
      "\u001b[1;31mMemoryError\u001b[0m: Unable to allocate 45.1 GiB for an array with shape (77805, 77805) and data type float64"
     ]
    }
   ],
   "source": [
    "train_set = data.build_full_trainset()\n",
    "algo.fit(train_set)"
   ]
  },
  {
   "cell_type": "code",
   "execution_count": null,
   "id": "7f30e083-7b3b-40af-8482-594a35b6ad36",
   "metadata": {},
   "outputs": [],
   "source": []
  }
 ],
 "metadata": {
  "kernelspec": {
   "display_name": "Python 3 (ipykernel)",
   "language": "python",
   "name": "python3"
  },
  "language_info": {
   "codemirror_mode": {
    "name": "ipython",
    "version": 3
   },
   "file_extension": ".py",
   "mimetype": "text/x-python",
   "name": "python",
   "nbconvert_exporter": "python",
   "pygments_lexer": "ipython3",
   "version": "3.10.10"
  }
 },
 "nbformat": 4,
 "nbformat_minor": 5
}
