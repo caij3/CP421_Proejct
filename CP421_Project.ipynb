{
 "cells": [
  {
   "cell_type": "code",
   "execution_count": 59,
   "id": "4d377613-1d6d-4272-9683-eaf3d66e113e",
   "metadata": {},
   "outputs": [
    {
     "name": "stdout",
     "output_type": "stream",
     "text": [
      "   User-ID        ISBN  Book-Rating\n",
      "0   276725  034545104X            0\n",
      "1   276726  0155061224            5\n",
      "2   276727  0446520802            0\n",
      "3   276729  052165615X            3\n",
      "4   276729  0521795028            6\n"
     ]
    }
   ],
   "source": [
    "import pandas as pd\n",
    "# ================== Preprocessing ====================\n",
    "# Set the name of the file\n",
    "rating_filename = 'Ratings.csv'\n",
    "# user_filename = 'Users.csv'\n",
    "#book_filename = 'Books.csv'\n",
    "\n",
    "ratings_df = pd.read_csv(rating_filename)\n",
    "\n",
    "print(ratings_df.head())\n",
    "\n",
    "# Rating - User-ID, ISBN, Book-Rating\n",
    "# Connect via ISBN"
   ]
  },
  {
   "cell_type": "code",
   "execution_count": 60,
   "id": "439274fb-ab65-4629-9c7e-94a4210a6e78",
   "metadata": {},
   "outputs": [
    {
     "name": "stdout",
     "output_type": "stream",
     "text": [
      "105283\n",
      "Number of unique books:  105283\n",
      "(1149780, 3)\n"
     ]
    }
   ],
   "source": [
    "print(len(ratings_df[\"User-ID\"].unique()))\n",
    "print(\"Number of unique books: \", len(ratings_df[\"User-ID\"].unique()))\n",
    "print(ratings_df.shape)"
   ]
  },
  {
   "cell_type": "code",
   "execution_count": 61,
   "id": "df49be08-5497-4d35-82ce-64b7c27cb33e",
   "metadata": {},
   "outputs": [
    {
     "data": {
      "text/plain": [
       "(433671, 3)"
      ]
     },
     "execution_count": 61,
     "metadata": {},
     "output_type": "execute_result"
    }
   ],
   "source": [
    "# Drop book ratings with 0 because it is already implied and not every book has a rating so it is unnecessary\n",
    "ratings_df = ratings_df[ratings_df[\"Book-Rating\"] != 0]\n",
    "ratings_df.shape"
   ]
  },
  {
   "cell_type": "code",
   "execution_count": 62,
   "id": "3e4887f9-c034-49f4-8b1a-06f1f3a7da30",
   "metadata": {},
   "outputs": [],
   "source": [
    "# print(ratings_df.mean())\n",
    "# print(ratings_df.max())"
   ]
  },
  {
   "cell_type": "code",
   "execution_count": 63,
   "id": "d5bfcee7-5c8a-4f37-8950-8f683f2be7cf",
   "metadata": {
    "scrolled": true
   },
   "outputs": [],
   "source": [
    "# Take the aggregate ratings (worst case scenario if user is new and age is unknown)\n",
    "avg_ratings = ratings_df.groupby('ISBN').agg(avg_rating = ('Book-Rating', 'mean'),\n",
    "                                                number_of_ratings = ('Book-Rating', 'count')).reset_index()\n",
    "\n",
    "# Keep the books with over 100 ratings\n",
    "avg_ratings100 = avg_ratings[avg_ratings['number_of_ratings']>100]"
   ]
  },
  {
   "cell_type": "code",
   "execution_count": 64,
   "id": "2898ac4f-64d5-4ba6-9067-abc17ed7ac7a",
   "metadata": {
    "scrolled": true
   },
   "outputs": [
    {
     "data": {
      "text/html": [
       "<div>\n",
       "<style scoped>\n",
       "    .dataframe tbody tr th:only-of-type {\n",
       "        vertical-align: middle;\n",
       "    }\n",
       "\n",
       "    .dataframe tbody tr th {\n",
       "        vertical-align: top;\n",
       "    }\n",
       "\n",
       "    .dataframe thead th {\n",
       "        text-align: right;\n",
       "    }\n",
       "</style>\n",
       "<table border=\"1\" class=\"dataframe\">\n",
       "  <thead>\n",
       "    <tr style=\"text-align: right;\">\n",
       "      <th></th>\n",
       "      <th>ISBN</th>\n",
       "      <th>avg_rating</th>\n",
       "      <th>number_of_ratings</th>\n",
       "    </tr>\n",
       "  </thead>\n",
       "  <tbody>\n",
       "    <tr>\n",
       "      <th>52761</th>\n",
       "      <td>0439139597</td>\n",
       "      <td>9.262774</td>\n",
       "      <td>137</td>\n",
       "    </tr>\n",
       "    <tr>\n",
       "      <th>52741</th>\n",
       "      <td>0439136369</td>\n",
       "      <td>9.082707</td>\n",
       "      <td>133</td>\n",
       "    </tr>\n",
       "    <tr>\n",
       "      <th>52740</th>\n",
       "      <td>0439136350</td>\n",
       "      <td>9.035461</td>\n",
       "      <td>141</td>\n",
       "    </tr>\n",
       "    <tr>\n",
       "      <th>53142</th>\n",
       "      <td>043935806X</td>\n",
       "      <td>9.033981</td>\n",
       "      <td>206</td>\n",
       "    </tr>\n",
       "    <tr>\n",
       "      <th>77940</th>\n",
       "      <td>0590353403</td>\n",
       "      <td>8.983193</td>\n",
       "      <td>119</td>\n",
       "    </tr>\n",
       "  </tbody>\n",
       "</table>\n",
       "</div>"
      ],
      "text/plain": [
       "             ISBN  avg_rating  number_of_ratings\n",
       "52761  0439139597    9.262774                137\n",
       "52741  0439136369    9.082707                133\n",
       "52740  0439136350    9.035461                141\n",
       "53142  043935806X    9.033981                206\n",
       "77940  0590353403    8.983193                119"
      ]
     },
     "execution_count": 64,
     "metadata": {},
     "output_type": "execute_result"
    }
   ],
   "source": [
    "# Check popular books\n",
    "avg_ratings100.sort_values(by='avg_rating', ascending=False).head()"
   ]
  },
  {
   "cell_type": "code",
   "execution_count": 65,
   "id": "bcd5494d-0d44-414b-b099-7076bb638531",
   "metadata": {},
   "outputs": [],
   "source": [
    "# Split the data into training and testing data set\n",
    "test_set, train_set = ratings_df[:len(ratings_df)//2], ratings_df[len(ratings_df)//2:]"
   ]
  },
  {
   "cell_type": "code",
   "execution_count": 66,
   "id": "7f9a8313-fc9d-42d0-87a8-071aecd7bf70",
   "metadata": {},
   "outputs": [],
   "source": [
    "from scipy.sparse import coo_matrix\n",
    "from sklearn.metrics.pairwise import cosine_similarity\n",
    "\n",
    "# Assuming unique_books and unique_users are precomputed\n",
    "user_ids = train_set['User-ID'].unique()\n",
    "book_ids = train_set['ISBN'].unique()\n",
    "\n",
    "user_id_to_index = {user_id: index for index, user_id in enumerate(user_ids)}\n",
    "book_id_to_index = {book_id: index for index, book_id in enumerate(book_ids)}\n",
    "\n",
    "# Create a COO sparse matrix\n",
    "data = []\n",
    "row_indices = []\n",
    "col_indices = []\n",
    "\n",
    "for index, row in ratings_df.iterrows():\n",
    "    user_index = user_id_to_index.get(row['User-ID'])\n",
    "    book_index = book_id_to_index.get(row['ISBN'])\n",
    "\n",
    "    if user_index is not None and book_index is not None:\n",
    "        data.append(row['Book-Rating'])\n",
    "        row_indices.append(user_index)\n",
    "        col_indices.append(book_index)\n",
    "\n",
    "user_book_coo = coo_matrix((data, (row_indices, col_indices)), shape=(len(user_ids), len(book_ids)))\n",
    "\n",
    "# Compute cosine similarity\n",
    "cosine_sim_matrix = cosine_similarity(user_book_coo, dense_output=False)"
   ]
  },
  {
   "cell_type": "code",
   "execution_count": 67,
   "id": "9384ddb0-9e56-4a0a-b576-e1961f4d3879",
   "metadata": {},
   "outputs": [],
   "source": [
    "# Map user-id to cosine similarity matrix index\n",
    "unique_users = train_set[\"User-ID\"].unique()\n",
    "user_index = {k: v for v, k in enumerate(unique_users)}"
   ]
  },
  {
   "cell_type": "code",
   "execution_count": 68,
   "id": "c61eb7fa-cfc5-4dbc-a1e2-7237fe192254",
   "metadata": {},
   "outputs": [
    {
     "data": {
      "text/plain": [
       "111419"
      ]
     },
     "execution_count": 68,
     "metadata": {},
     "output_type": "execute_result"
    }
   ],
   "source": [
    "unique_books = set(train_set[\"ISBN\"].unique())\n",
    "len(unique_books)"
   ]
  },
  {
   "cell_type": "code",
   "execution_count": 69,
   "id": "f74d0c3c-4115-464e-906f-b261862f7811",
   "metadata": {},
   "outputs": [],
   "source": [
    "#### MAIN PROGRAM - CHANGE THE USER-ID HERE\n",
    "# Select a user to recommend books\n",
    "user = 276704"
   ]
  },
  {
   "cell_type": "code",
   "execution_count": 70,
   "id": "1be749f8-2a13-47b3-aa42-9697beee7a11",
   "metadata": {},
   "outputs": [
    {
     "name": "stdout",
     "output_type": "stream",
     "text": [
      "40348\n"
     ]
    }
   ],
   "source": [
    "# Convert user-id to matrix index\n",
    "index = user_index.get(user)\n",
    "print(index)"
   ]
  },
  {
   "cell_type": "code",
   "execution_count": 71,
   "id": "526c1685-5840-46bd-bf39-9c3da3f8e8a3",
   "metadata": {},
   "outputs": [
    {
     "data": {
      "text/plain": [
       "111414"
      ]
     },
     "execution_count": 71,
     "metadata": {},
     "output_type": "execute_result"
    }
   ],
   "source": [
    "# Find the unrated books by specific user\n",
    "rated_books = train_set[train_set['User-ID'] == user][\"ISBN\"]\n",
    "unrated_books = unique_books - set(rated_books)\n",
    "len(unrated_books)"
   ]
  },
  {
   "cell_type": "code",
   "execution_count": 88,
   "id": "fd79fe4f-0a0c-4931-a077-e07c11159b7b",
   "metadata": {},
   "outputs": [],
   "source": [
    "# Average Nearest-Neighbors calculation\n",
    "# Dictionary to store ratings\n",
    "predicted_ratings = dict()\n",
    "for i in range(cosine_sim_matrix.shape[0]):\n",
    "    # If cosine similarity is above a certain threshold, add it to weighted average\n",
    "    if (cosine_sim_matrix[(index, i)] > 0.1):\n",
    "        # Gets the User-ID from the index\n",
    "        user2 = unique_users[i]\n",
    "        user2_df = train_set[train_set['User-ID'] == user2]\n",
    "        for book in unrated_books:\n",
    "            if book in user2_df[\"ISBN\"].values:\n",
    "                tmp = predicted_ratings.get(book,[0,0])\n",
    "                tmp[0] += user2_df[user2_df[\"ISBN\"] == book][\"Book-Rating\"].values[0]\n",
    "                tmp[1] += 1\n",
    "                predicted_ratings[book] = tmp\n",
    "        "
   ]
  },
  {
   "cell_type": "code",
   "execution_count": 90,
   "id": "5e05d9dc-da27-4467-ab54-c6c5f1e4d752",
   "metadata": {},
   "outputs": [],
   "source": [
    "for key in predicted_ratings:\n",
    "    predicted_ratings[key] = predicted_ratings.get(key)[0] // predicted_ratings.get(key)[1]"
   ]
  },
  {
   "cell_type": "code",
   "execution_count": 91,
   "id": "8dc30b14-7f96-4147-b0bc-03b800567da7",
   "metadata": {},
   "outputs": [
    {
     "data": {
      "text/plain": [
       "{'0375411550': 8,\n",
       " '1582342113': 7,\n",
       " '0156002027': 10,\n",
       " '0786868716': 6,\n",
       " '0312026021': 10,\n",
       " '0380726246': 6,\n",
       " '0446602620': 6,\n",
       " '0380802872': 6,\n",
       " '0553572202': 7,\n",
       " '0399146253': 5,\n",
       " '0316969680': 7,\n",
       " '0553568701': 7,\n",
       " '0312974485': 4,\n",
       " '0440226430': 7,\n",
       " '0399145885': 9,\n",
       " '0316602051': 8,\n",
       " '0345458915': 8,\n",
       " '0385510438': 8,\n",
       " '0385508042': 9,\n",
       " '0688156134': 8,\n",
       " '0425153975': 7,\n",
       " '0886773784': 9,\n",
       " '0425107469': 7,\n",
       " '0886773776': 9,\n",
       " '0886774632': 8,\n",
       " '0380794292': 6,\n",
       " '0886775639': 8,\n",
       " '0553265520': 6,\n",
       " '0316284955': 10,\n",
       " '0449005615': 7,\n",
       " '0440234743': 8,\n",
       " '0373280254': 5,\n",
       " '051511264X': 6,\n",
       " '0399152288': 8,\n",
       " '0684871521': 9,\n",
       " '0399149155': 7,\n",
       " '0060514949': 6,\n",
       " '0440206154': 9,\n",
       " '0812532007': 7,\n",
       " '0425097609': 10,\n",
       " '0671041789': 10,\n",
       " '0451124340': 9,\n",
       " '0425134350': 9,\n",
       " '0345370775': 10,\n",
       " '0425109720': 10,\n",
       " '0425100650': 9,\n",
       " '0553563718': 7,\n",
       " '0060929871': 10,\n",
       " '0345396065': 6,\n",
       " '0942802799': 7,\n",
       " '0760700362': 8,\n",
       " '0345379802': 9,\n",
       " '1586635603': 8,\n",
       " '0553568728': 6,\n",
       " '0441328008': 8,\n",
       " '0670855030': 10,\n",
       " '0393320979': 7,\n",
       " '0684867621': 10,\n",
       " '0385007515': 8,\n",
       " '0670858692': 9,\n",
       " '0553066684': 10,\n",
       " '0399136150': 9,\n",
       " '0670835382': 9,\n",
       " '0670813648': 8,\n",
       " '0743235150': 9,\n",
       " '0670844527': 8,\n",
       " '0399139540': 8,\n",
       " '0670851086': 8,\n",
       " '0684853515': 10,\n",
       " '0399143904': 7,\n",
       " '0684853507': 10,\n",
       " '1566199158': 10,\n",
       " '0670839531': 7,\n",
       " '0399138250': 9,\n",
       " '0670868361': 8,\n",
       " '0070055645': 5,\n",
       " '0842329129': 5,\n",
       " '0671686151': 5,\n",
       " '0553563580': 5,\n",
       " '1893221024': 7,\n",
       " '0439064872': 9,\n",
       " '0312924585': 9,\n",
       " '0688163165': 10,\n",
       " '0671759213': 6,\n",
       " '0316769487': 5,\n",
       " '0375700293': 6,\n",
       " '044990928X': 7,\n",
       " '0316182540': 9,\n",
       " '0345417623': 9,\n",
       " '0066214122': 10,\n",
       " '0553579908': 10,\n",
       " '0768322413': 10,\n",
       " '0300098332': 7,\n",
       " '0345455916': 8,\n",
       " '0425119653': 7,\n",
       " '0399148760': 8,\n",
       " '1559720913': 8,\n",
       " '0452283957': 10,\n",
       " '0385472943': 8,\n",
       " '067974066X': 8,\n",
       " '0812533550': 9,\n",
       " '0807067172': 6,\n",
       " '0441005292': 6,\n",
       " '0679736646': 7,\n",
       " '0679721886': 7,\n",
       " '0064470687': 8,\n",
       " '0345423402': 7,\n",
       " '0441002935': 6,\n",
       " '0425158594': 3,\n",
       " '067153288X': 6,\n",
       " '0380710218': 9,\n",
       " '0553569910': 8,\n",
       " '0449223795': 5,\n",
       " '0345353145': 6,\n",
       " '0671038567': 9,\n",
       " '0345384466': 3,\n",
       " '042513525X': 7,\n",
       " '0756400619': 8,\n",
       " '0312967098': 8,\n",
       " '0451184386': 5,\n",
       " '055380202X': 8,\n",
       " '0425107035': 8,\n",
       " '0586046860': 10,\n",
       " '0140182004': 9,\n",
       " '0140039589': 7,\n",
       " '0684800713': 6,\n",
       " '0140177914': 8,\n",
       " '0345380371': 6,\n",
       " '0446673706': 7,\n",
       " '0312264372': 5,\n",
       " '1558747028': 5,\n",
       " '072140524X': 8,\n",
       " '0671024248': 5,\n",
       " '0898793718': 8,\n",
       " '0684846004': 9,\n",
       " '0553138286': 8,\n",
       " '0440225825': 10,\n",
       " '0671683993': 8,\n",
       " '044021422X': 5,\n",
       " '0380778440': 5,\n",
       " '0375703055': 5,\n",
       " '0451204077': 5,\n",
       " '042518109X': 5,\n",
       " '1580621910': 10,\n",
       " '0515131229': 5,\n",
       " '0446605573': 5,\n",
       " '0373483546': 5,\n",
       " '0440236673': 5,\n",
       " '0679781587': 10,\n",
       " '1567185525': 5,\n",
       " '0451188454': 8,\n",
       " '0515093556': 5,\n",
       " '0316601950': 5,\n",
       " '014028009X': 5,\n",
       " '0061040282': 9,\n",
       " '0060974109': 8,\n",
       " '067082982X': 8,\n",
       " '0874832004': 8,\n",
       " '0446391727': 8,\n",
       " '0965004302': 9,\n",
       " '0898792304': 5,\n",
       " '0312141173': 5,\n",
       " '3453678981400': 7,\n",
       " '0375504397': 10,\n",
       " '0061040320': 8}"
      ]
     },
     "execution_count": 91,
     "metadata": {},
     "output_type": "execute_result"
    }
   ],
   "source": [
    "predicted_ratings"
   ]
  },
  {
   "cell_type": "code",
   "execution_count": 92,
   "id": "b990bef4-89fc-4021-ba4b-5ca218924d9e",
   "metadata": {},
   "outputs": [],
   "source": [
    "# Get the top 10 recommended books\n",
    "top_10 = sorted(predicted_ratings.items(), key=lambda x:-x[1])[:10]"
   ]
  },
  {
   "cell_type": "code",
   "execution_count": 93,
   "id": "0cc4ebf5-c329-43bf-b578-57a5bd0ad7b6",
   "metadata": {},
   "outputs": [
    {
     "data": {
      "text/plain": [
       "[('0156002027', 10),\n",
       " ('0312026021', 10),\n",
       " ('0316284955', 10),\n",
       " ('0425097609', 10),\n",
       " ('0671041789', 10),\n",
       " ('0345370775', 10),\n",
       " ('0425109720', 10),\n",
       " ('0060929871', 10),\n",
       " ('0670855030', 10),\n",
       " ('0684867621', 10)]"
      ]
     },
     "execution_count": 93,
     "metadata": {},
     "output_type": "execute_result"
    }
   ],
   "source": [
    "# Print the top 10 books for the specific user\n",
    "print(top_10)"
   ]
  },
  {
   "cell_type": "code",
   "execution_count": null,
   "id": "098f897d-8288-405e-b895-60cf4a8ee33e",
   "metadata": {},
   "outputs": [],
   "source": []
  }
 ],
 "metadata": {
  "kernelspec": {
   "display_name": "Python 3 (ipykernel)",
   "language": "python",
   "name": "python3"
  },
  "language_info": {
   "codemirror_mode": {
    "name": "ipython",
    "version": 3
   },
   "file_extension": ".py",
   "mimetype": "text/x-python",
   "name": "python",
   "nbconvert_exporter": "python",
   "pygments_lexer": "ipython3",
   "version": "3.10.10"
  }
 },
 "nbformat": 4,
 "nbformat_minor": 5
}
